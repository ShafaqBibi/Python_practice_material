{
 "cells": [
  {
   "cell_type": "markdown",
   "id": "e133f55c",
   "metadata": {},
   "source": [
    "# Python List:"
   ]
  },
  {
   "cell_type": "markdown",
   "id": "8d17f6b3",
   "metadata": {},
   "source": [
    "# 01\n",
    "Write a Python program to sum all the items in a list."
   ]
  },
  {
   "cell_type": "code",
   "execution_count": 1,
   "id": "8a02ef21",
   "metadata": {},
   "outputs": [
    {
     "name": "stdout",
     "output_type": "stream",
     "text": [
      "2\n",
      "8\n",
      "6\n",
      "3\n",
      "7\n",
      "5\n",
      "The Sum of all numbers are: 31\n"
     ]
    }
   ],
   "source": [
    "Sum = 0\n",
    "item_list = [2,8,6,3,7,5]\n",
    "for i in item_list:\n",
    "    print(i)\n",
    "    Sum += i\n",
    "print(f'The Sum of all numbers are: {Sum}')"
   ]
  },
  {
   "cell_type": "markdown",
   "id": "c21692d3",
   "metadata": {},
   "source": [
    "# 02\n",
    "Write a Python program to get the largest number from a list."
   ]
  },
  {
   "cell_type": "code",
   "execution_count": 2,
   "id": "3414334f",
   "metadata": {},
   "outputs": [
    {
     "name": "stdout",
     "output_type": "stream",
     "text": [
      "The largest number from the list is: 9\n"
     ]
    }
   ],
   "source": [
    "item_list = [2,8,6,3,7,5,9]\n",
    "large_num = 0\n",
    "for i in item_list:\n",
    "    if i > large_num:\n",
    "        large_num = i\n",
    "print(f'The largest number from the list is: {large_num}')"
   ]
  },
  {
   "cell_type": "markdown",
   "id": "97778ce5",
   "metadata": {},
   "source": [
    "# 03\n",
    "write a Python program to swap first and last element of the list."
   ]
  },
  {
   "cell_type": "code",
   "execution_count": 3,
   "id": "ef74f4c1",
   "metadata": {},
   "outputs": [
    {
     "name": "stdout",
     "output_type": "stream",
     "text": [
      "List before swap:\n",
      "[2, 5, 3, 7, 9]\n",
      "List after swap:\n",
      "[9, 5, 3, 7, 2]\n"
     ]
    }
   ],
   "source": [
    "num_list = [2,5,3,7,9]\n",
    "\n",
    "print(f'List before swap:\\n{num_list}')\n",
    "\n",
    "first = num_list.pop(0)\n",
    "last = num_list.pop(-1)\n",
    "\n",
    "num_list.insert(0,last)\n",
    "num_list.append(first)\n",
    "\n",
    "print(f'List after swap:\\n{num_list}')"
   ]
  },
  {
   "cell_type": "markdown",
   "id": "2d2e40e0",
   "metadata": {},
   "source": [
    "# 04\n",
    "Check if an element exists in a list in Python"
   ]
  },
  {
   "cell_type": "code",
   "execution_count": 4,
   "id": "c5f2a98f",
   "metadata": {},
   "outputs": [
    {
     "name": "stdout",
     "output_type": "stream",
     "text": [
      "The output is True because the element we are looking is exist in the list.\n"
     ]
    }
   ],
   "source": [
    "num_list = [2,5,3,7,9,11,1,13]\n",
    "\n",
    "if 5 in num_list:\n",
    "    print(f'The output is {True} because the element we are looking is exist in the list.')\n",
    "else:\n",
    "    print(f'The output is {False} because the element we are looking is not exist in the list.')"
   ]
  },
  {
   "cell_type": "markdown",
   "id": "622c0c55",
   "metadata": {},
   "source": [
    "# 05\n",
    "Reverse a list in Python"
   ]
  },
  {
   "cell_type": "code",
   "execution_count": 5,
   "id": "7be7abca",
   "metadata": {},
   "outputs": [
    {
     "name": "stdout",
     "output_type": "stream",
     "text": [
      "[13, 1, 11, 9, 7, 3, 5, 2]\n"
     ]
    }
   ],
   "source": [
    "num_list = [2,5,3,7,9,11,1,13]\n",
    "num_list.reverse()\n",
    "print(num_list)"
   ]
  },
  {
   "cell_type": "markdown",
   "id": "04056c4b",
   "metadata": {},
   "source": [
    "# 06\n",
    "Write a program to add two lists index-wise. Create a new list that contains the 0th index item from both the list, then the 1st index item, and so on till the last element. any leftover items will get added at the end of the new list."
   ]
  },
  {
   "cell_type": "code",
   "execution_count": 6,
   "id": "2e5f3ad2",
   "metadata": {},
   "outputs": [
    {
     "name": "stdout",
     "output_type": "stream",
     "text": [
      "[7, 9, 11, 13, 5]\n"
     ]
    }
   ],
   "source": [
    "num_list1 = [1,2,3,4,5]\n",
    "num_list2 = [6,7,8,9,0]\n",
    "new_list = []\n",
    "for i, j in zip(num_list1,num_list2):\n",
    "    k = i+j\n",
    "    new_list.append(k)\n",
    "print(new_list)"
   ]
  },
  {
   "cell_type": "markdown",
   "id": "7a1fdc0a",
   "metadata": {},
   "source": [
    "# 07\n",
    "write a program to turn every item of a list into its square."
   ]
  },
  {
   "cell_type": "code",
   "execution_count": 7,
   "id": "fcdad332",
   "metadata": {},
   "outputs": [
    {
     "name": "stdout",
     "output_type": "stream",
     "text": [
      "[1, 4, 9, 16, 25]\n"
     ]
    }
   ],
   "source": [
    "num_lst = [1,2,3,4,5]\n",
    "sqr_lst = []\n",
    "for i in num_lst:\n",
    "    sqr_lst.append(i**2)\n",
    "print(sqr_lst)"
   ]
  },
  {
   "cell_type": "markdown",
   "id": "d796e9a7",
   "metadata": {},
   "source": [
    "# 08\n",
    "Concatenate two lists in the following order: \n",
    "['Hello Dear', 'Hello Sir', 'take Dear', 'take Sir']"
   ]
  },
  {
   "cell_type": "code",
   "execution_count": 8,
   "id": "c520c078",
   "metadata": {},
   "outputs": [
    {
     "name": "stdout",
     "output_type": "stream",
     "text": [
      "['Hello Dear', 'Hello Sir', 'take Dear', 'take Sir']\n"
     ]
    }
   ],
   "source": [
    "list1 = [\"Hello \", \"take \"]\n",
    "list2 = [\"Dear\", \"Sir\"]\n",
    "list3 = []\n",
    "for i in list1:\n",
    "    for j in list2:\n",
    "        list3.append(i+j)\n",
    "print(list3)"
   ]
  },
  {
   "cell_type": "markdown",
   "id": "70a8fe10",
   "metadata": {},
   "source": [
    "# 09\n",
    "Write a program to iterate both lists simultaneously and display items from list1 in original order and items from list2 in reverse order."
   ]
  },
  {
   "cell_type": "code",
   "execution_count": 9,
   "id": "dd4c4d7b",
   "metadata": {},
   "outputs": [
    {
     "name": "stdout",
     "output_type": "stream",
     "text": [
      "10 400\n",
      "20 300\n",
      "30 200\n",
      "40 100\n"
     ]
    }
   ],
   "source": [
    "list1 = [10, 20, 30, 40]\n",
    "list2 = [100, 200, 300, 400]\n",
    "\n",
    "for i, j in zip(list1, list2[::-1]):\n",
    "    print(i, j)"
   ]
  },
  {
   "cell_type": "markdown",
   "id": "ff113a59",
   "metadata": {},
   "source": [
    "# 10\n",
    "Remove empty strings from the list of strings"
   ]
  },
  {
   "cell_type": "code",
   "execution_count": 10,
   "id": "da3bba66",
   "metadata": {},
   "outputs": [
    {
     "name": "stdout",
     "output_type": "stream",
     "text": [
      "['Mike', 'Emma', 'Kelly', 'Brad']\n"
     ]
    }
   ],
   "source": [
    "list1 = [\"Mike\", \"\", \"Emma\", \"Kelly\", \"\", \"Brad\"]\n",
    "new_list = list(filter(None,list1))\n",
    "print(new_list)"
   ]
  },
  {
   "cell_type": "markdown",
   "id": "27b56cbe",
   "metadata": {},
   "source": [
    "# 11\n",
    "Write a program to add item 7000 after 6000 in the following Python List"
   ]
  },
  {
   "cell_type": "code",
   "execution_count": 11,
   "id": "83f5641b",
   "metadata": {},
   "outputs": [
    {
     "name": "stdout",
     "output_type": "stream",
     "text": [
      "[10, 20, [300, 400, [5000, 6000, 7000], 500], 30, 40]\n"
     ]
    }
   ],
   "source": [
    "list1 = [10, 20, [300, 400, [5000, 6000], 500], 30, 40]\n",
    "list1[2][2].append(7000)\n",
    "print(list1)"
   ]
  },
  {
   "cell_type": "markdown",
   "id": "3d9f3c50",
   "metadata": {},
   "source": [
    "# 12\n",
    "Write a program to extend it by adding the sublist [\"h\", \"i\", \"j\"] in such a way that it will look like the following list.\n",
    "list1 = [\"a\", \"b\", [\"c\", [\"d\", \"e\", [\"f\", \"g\"], \"k\"], \"l\"], \"m\", \"n\"]\n",
    "sub_list = [\"h\", \"i\", \"j\"]"
   ]
  },
  {
   "cell_type": "code",
   "execution_count": 12,
   "id": "f57e4b9c",
   "metadata": {},
   "outputs": [
    {
     "name": "stdout",
     "output_type": "stream",
     "text": [
      "['a', 'b', ['c', ['d', 'e', ['f', 'g', 'h', 'i', 'j'], 'k'], 'l'], 'm', 'n']\n"
     ]
    }
   ],
   "source": [
    "list1 = [\"a\", \"b\", [\"c\", [\"d\", \"e\", [\"f\", \"g\"], \"k\"], \"l\"], \"m\", \"n\"]\n",
    "sub_list = [\"h\", \"i\", \"j\"]\n",
    "list1[2][1][2].extend(sub_list)\n",
    "print(list1)"
   ]
  },
  {
   "cell_type": "markdown",
   "id": "9db1eace",
   "metadata": {},
   "source": [
    "# 13\n",
    "Write a program to find value 20 in the list, and if it is present, replace it with 200. Only update the first occurrence of an item."
   ]
  },
  {
   "cell_type": "code",
   "execution_count": 13,
   "id": "f9e4d6d3",
   "metadata": {},
   "outputs": [
    {
     "name": "stdout",
     "output_type": "stream",
     "text": [
      "[5, 10, 15, 200, 25, 50, 20]\n"
     ]
    }
   ],
   "source": [
    "list1 = [5, 10, 15, 20, 25, 50, 20]\n",
    "val = 20\n",
    "if val in list1:\n",
    "    index = list1.index(val)\n",
    "    list1[index] = 200\n",
    "print(list1)\n",
    "    "
   ]
  },
  {
   "cell_type": "markdown",
   "id": "9ec90003",
   "metadata": {},
   "source": [
    "# 14\n",
    "Write a program to remove all occurrences of item 20."
   ]
  },
  {
   "cell_type": "code",
   "execution_count": 14,
   "id": "924ab62f",
   "metadata": {},
   "outputs": [
    {
     "name": "stdout",
     "output_type": "stream",
     "text": [
      "[5, 15, 25, 50]\n"
     ]
    }
   ],
   "source": [
    "list1 = [5, 20, 15, 20, 25, 50, 20]\n",
    "val = 20\n",
    "for i in list1:\n",
    "    if i == val:\n",
    "        list1.remove(i)\n",
    "print(list1)"
   ]
  }
 ],
 "metadata": {
  "kernelspec": {
   "display_name": "Python 3",
   "language": "python",
   "name": "python3"
  },
  "language_info": {
   "codemirror_mode": {
    "name": "ipython",
    "version": 3
   },
   "file_extension": ".py",
   "mimetype": "text/x-python",
   "name": "python",
   "nbconvert_exporter": "python",
   "pygments_lexer": "ipython3",
   "version": "3.8.8"
  }
 },
 "nbformat": 4,
 "nbformat_minor": 5
}
