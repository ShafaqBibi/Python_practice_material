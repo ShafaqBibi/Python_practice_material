{
 "cells": [
  {
   "cell_type": "markdown",
   "id": "c945cb07",
   "metadata": {},
   "source": [
    "# Lambda Function, Map, Filter"
   ]
  },
  {
   "cell_type": "markdown",
   "id": "fe44d739",
   "metadata": {},
   "source": [
    "# 01\n",
    "Write a Python program to create a lambda function that adds 15 to a given number passed in as an argument, also create a lambda function that multiplies argument x with argument y and prints the result."
   ]
  },
  {
   "cell_type": "code",
   "execution_count": 3,
   "id": "7918152b",
   "metadata": {},
   "outputs": [
    {
     "name": "stdout",
     "output_type": "stream",
     "text": [
      "40\n",
      "54\n"
     ]
    }
   ],
   "source": [
    "add = lambda a : a + 15\n",
    "print(add(25))\n",
    "\n",
    "mult = lambda x,y : x*y\n",
    "print(mult(6,9))"
   ]
  },
  {
   "cell_type": "markdown",
   "id": "cb0cb11e",
   "metadata": {},
   "source": [
    "# 02\n",
    "Using a lambda function inside another function"
   ]
  },
  {
   "cell_type": "code",
   "execution_count": 5,
   "id": "fa127f0c",
   "metadata": {},
   "outputs": [
    {
     "name": "stdout",
     "output_type": "stream",
     "text": [
      "9\n"
     ]
    }
   ],
   "source": [
    "def my_func(num):\n",
    "    return lambda x : x+num\n",
    "\n",
    "lamb_func = my_func(6)\n",
    "print(lamb_func(3))"
   ]
  },
  {
   "cell_type": "markdown",
   "id": "671084eb",
   "metadata": {},
   "source": [
    "# 03\n",
    "Using a lambda function in list comprehension"
   ]
  },
  {
   "cell_type": "code",
   "execution_count": 9,
   "id": "18f4188f",
   "metadata": {},
   "outputs": [
    {
     "name": "stdout",
     "output_type": "stream",
     "text": [
      "[1, 4, 9, 16, 25]\n"
     ]
    }
   ],
   "source": [
    "my_list = [1,2,3,4,5]\n",
    "lamb_list = [(lambda y: y*x) (x) for x in my_list]\n",
    "print(lamb_list)"
   ]
  },
  {
   "cell_type": "markdown",
   "id": "e43a0cd6",
   "metadata": {},
   "source": [
    "# 04\n",
    "Using lambda function in list comprehension for generate table of 2"
   ]
  },
  {
   "cell_type": "code",
   "execution_count": 13,
   "id": "e853dde6",
   "metadata": {},
   "outputs": [
    {
     "name": "stdout",
     "output_type": "stream",
     "text": [
      "[2, 4, 6, 8, 10, 12, 14, 16, 18, 20]\n"
     ]
    }
   ],
   "source": [
    "lamb_table = [(lambda a : a*2) (a) for a in range(1,11)]\n",
    "print(lamb_table)"
   ]
  },
  {
   "cell_type": "markdown",
   "id": "7df9fd20",
   "metadata": {},
   "source": [
    "# 05\n",
    "Write a python program to generate a function to double a specified number."
   ]
  },
  {
   "cell_type": "code",
   "execution_count": 14,
   "id": "79f1fff3",
   "metadata": {},
   "outputs": [
    {
     "name": "stdout",
     "output_type": "stream",
     "text": [
      "50\n"
     ]
    }
   ],
   "source": [
    "num = lambda n : n*2\n",
    "print(num(25))"
   ]
  },
  {
   "cell_type": "markdown",
   "id": "1b7f3101",
   "metadata": {},
   "source": [
    "# 06\n",
    "Write a python program to generate a lambda function to separate the odd and even number from a list of numbers, list_a as provided in the following output."
   ]
  },
  {
   "cell_type": "code",
   "execution_count": 19,
   "id": "ae5d7362",
   "metadata": {},
   "outputs": [
    {
     "name": "stdout",
     "output_type": "stream",
     "text": [
      "[2, 4, 6, 8, 10, 12, 14, 16, 18, 20]\n",
      "[1, 3, 5, 7, 9, 11, 13, 15, 17, 19]\n"
     ]
    }
   ],
   "source": [
    "num_list = [1,2,3,4,5,6,7,8,9,10,11,12,13,14,15,16,17,18,19,20]\n",
    "even_list = list(filter(lambda a : a%2==0, num_list))\n",
    "odd_list = list(filter(lambda b: b%2!=0, num_list))\n",
    "print(even_list)\n",
    "print(odd_list)"
   ]
  },
  {
   "cell_type": "markdown",
   "id": "0bf1e976",
   "metadata": {},
   "source": [
    "# 07\n",
    "Write a python program to generate a lambda function to get the power of two on a list of numbers, list_a as provided in the following output."
   ]
  },
  {
   "cell_type": "markdown",
   "id": "38115b7d",
   "metadata": {},
   "source": [
    "list_a = [22, 56, 77, 99, 45, 36, 87, 93, 5, 78, 2, 66]"
   ]
  },
  {
   "cell_type": "code",
   "execution_count": 21,
   "id": "c5fe83f3",
   "metadata": {},
   "outputs": [
    {
     "name": "stdout",
     "output_type": "stream",
     "text": [
      "[484, 3136, 5929, 9801, 2025, 1296, 7569, 8649, 25, 6084, 4, 4356]\n"
     ]
    }
   ],
   "source": [
    "list_a = [22, 56, 77, 99, 45, 36, 87, 93, 5, 78, 2, 66]\n",
    "new_list = list(map(lambda num : num**2, list_a))\n",
    "print(new_list)"
   ]
  }
 ],
 "metadata": {
  "kernelspec": {
   "display_name": "Python 3",
   "language": "python",
   "name": "python3"
  },
  "language_info": {
   "codemirror_mode": {
    "name": "ipython",
    "version": 3
   },
   "file_extension": ".py",
   "mimetype": "text/x-python",
   "name": "python",
   "nbconvert_exporter": "python",
   "pygments_lexer": "ipython3",
   "version": "3.8.8"
  }
 },
 "nbformat": 4,
 "nbformat_minor": 5
}
