{
 "cells": [
  {
   "cell_type": "markdown",
   "id": "fa7d3def",
   "metadata": {},
   "source": [
    "# 052 \n",
    "Display a \n",
    "random \n",
    "integer \n",
    "between \n",
    "1 and 100 \n",
    "inclusive."
   ]
  },
  {
   "cell_type": "code",
   "execution_count": 1,
   "id": "9fa2139b",
   "metadata": {},
   "outputs": [
    {
     "name": "stdout",
     "output_type": "stream",
     "text": [
      "61\n"
     ]
    }
   ],
   "source": [
    "import random\n",
    "\n",
    "num = random.randint(1,100)\n",
    "print(num)"
   ]
  },
  {
   "cell_type": "markdown",
   "id": "4461ad7c",
   "metadata": {},
   "source": [
    "# 053 \n",
    "Display a \n",
    "random \n",
    "fruit from \n",
    "a list of \n",
    "five fruits."
   ]
  },
  {
   "cell_type": "code",
   "execution_count": 2,
   "id": "0b3f822c",
   "metadata": {},
   "outputs": [
    {
     "name": "stdout",
     "output_type": "stream",
     "text": [
      "Grapes\n"
     ]
    }
   ],
   "source": [
    "fruits = ['Apple', 'Grapes', 'Strawberry', 'Orange', 'Banana']\n",
    "choice = random.choice(fruits)\n",
    "print(choice)"
   ]
  },
  {
   "cell_type": "markdown",
   "id": "a2799b7b",
   "metadata": {},
   "source": [
    "# 054 \n",
    "Randomly choose either heads or tails (“h” or “t”). Ask \n",
    "the user to make their choice. If their choice is the same \n",
    "as the randomly selected value, display the message \n",
    "“You win”, otherwise display “Bad luck”. At the end, tell \n",
    "the user if the computer selected heads or tails. "
   ]
  },
  {
   "cell_type": "code",
   "execution_count": 3,
   "id": "1a663bdc",
   "metadata": {},
   "outputs": [
    {
     "name": "stdout",
     "output_type": "stream",
     "text": [
      "Choose heads or tails (h or t): h\n",
      "You Win\n",
      "It's Heads\n"
     ]
    }
   ],
   "source": [
    "user_guess = input(\"Choose heads or tails (h or t): \")\n",
    "computer_choose = random.choice(['h','t'])\n",
    "\n",
    "if user_guess == computer_choose:\n",
    "    print(\"You Win\")\n",
    "else:\n",
    "    print(\"Bad luck\")  \n",
    "if computer_choose == 'h':\n",
    "    print(\"It's Heads\")\n",
    "else:\n",
    "    print(\"It's Tails\")"
   ]
  },
  {
   "cell_type": "markdown",
   "id": "633b62c7",
   "metadata": {},
   "source": [
    "# 055 \n",
    "Randomly choose a number between 1 and 5. Ask the user to pick a \n",
    "number. If they guess correctly, display the message “Well done”, \n",
    "otherwise tell them if they are too high or too low and ask them to pick a \n",
    "second number. If they guess correctly on their second guess, display \n",
    "“Correct”, otherwise display “You lose”."
   ]
  },
  {
   "cell_type": "code",
   "execution_count": 4,
   "id": "43b7513b",
   "metadata": {},
   "outputs": [
    {
     "name": "stdout",
     "output_type": "stream",
     "text": [
      "Enter any number: 6\n",
      "Too High\n",
      "Enter again: 2\n",
      "You lose\n"
     ]
    }
   ],
   "source": [
    "random_num = random.randint(1,5)\n",
    "user_guess = int(input(\"Enter any number: \"))\n",
    "\n",
    "if user_guess == random_num:\n",
    "    print(\"Well done\")\n",
    "elif user_guess > random_num:\n",
    "    print(\"Too High\")\n",
    "    second_num = int(input(\"Enter again: \"))\n",
    "    if second_num == random_num:\n",
    "        print(\"Correct\")\n",
    "    else:\n",
    "        print(\"You lose\")\n",
    "elif user_guess < random_num:\n",
    "    print(\"Too Low\")\n",
    "    second_num = int(input(\"Enter again: \"))\n",
    "    if second_num == random_num:\n",
    "        print(\"Correct\")\n",
    "    else:\n",
    "        print(\"You lose\")\n",
    "\n",
    "\n"
   ]
  },
  {
   "cell_type": "markdown",
   "id": "b0a179d4",
   "metadata": {},
   "source": [
    "# 056 \n",
    "Randomly pick a whole number between 1 \n",
    "and 10. Ask the user to enter a number and \n",
    "keep entering numbers until they enter the \n",
    "number that was randomly picked. "
   ]
  },
  {
   "cell_type": "code",
   "execution_count": 5,
   "id": "8c859e32",
   "metadata": {},
   "outputs": [
    {
     "name": "stdout",
     "output_type": "stream",
     "text": [
      "Enter a number: 5\n",
      "Enter a number: 6\n",
      "Enter a number: 8\n",
      "Enter a number: 10\n",
      "Enter a number: 9\n",
      "Enter a number: 7\n",
      "Enter a number: 4\n",
      "You picked a correct number\n",
      "Randomly picked number is: 4\n"
     ]
    }
   ],
   "source": [
    "random_number = random.randint(1,10)\n",
    "\n",
    "while True:\n",
    "    user_guess = int(input(\"Enter a number: \"))\n",
    "    if user_guess == random_number:\n",
    "        print(f'You picked a correct number\\nRandomly picked number is: {random_number}')\n",
    "        break"
   ]
  },
  {
   "cell_type": "markdown",
   "id": "b4ec42cf",
   "metadata": {},
   "source": [
    "# 057 \n",
    "Update \n",
    "program 056\n",
    "so that it \n",
    "tells the \n",
    "user if they \n",
    "are too high \n",
    "or too low \n",
    "before they \n",
    "pick again. "
   ]
  },
  {
   "cell_type": "code",
   "execution_count": 6,
   "id": "af2caf89",
   "metadata": {},
   "outputs": [
    {
     "name": "stdout",
     "output_type": "stream",
     "text": [
      "Enter a number: 5\n",
      "Too High\n",
      "Enter a number: 1\n",
      "You picked a correct number\n",
      "Randomly picked number is: 1\n"
     ]
    }
   ],
   "source": [
    "random_number = random.randint(1,10)\n",
    "\n",
    "while True:\n",
    "    user_guess = int(input(\"Enter a number: \"))\n",
    "    if user_guess == random_number:\n",
    "        print(f'You picked a correct number\\nRandomly picked number is: {random_number}')\n",
    "        break\n",
    "    elif user_guess > random_number:\n",
    "        print(\"Too High\")\n",
    "    else:\n",
    "        print(\"Too Low\")"
   ]
  },
  {
   "cell_type": "markdown",
   "id": "c3b11bd6",
   "metadata": {},
   "source": [
    "# 058 \n",
    "Make a maths quiz that asks five questions by randomly \n",
    "generating two whole numbers to make the question \n",
    "(e.g. [num1] + [num2]). Ask the user to enter the \n",
    "answer. If they get it right add a point to their score. At \n",
    "the end of the quiz, tell them how many they got correct \n",
    "out of five."
   ]
  },
  {
   "cell_type": "code",
   "execution_count": 7,
   "id": "e59c2411",
   "metadata": {},
   "outputs": [
    {
     "name": "stdout",
     "output_type": "stream",
     "text": [
      "5 + 62\n",
      "Enter the answer: 67\n",
      "39 + 70\n",
      "Enter the answer: 109\n",
      "55 + 8\n",
      "Enter the answer: 63\n",
      "44 + 39\n",
      "Enter the answer: 83\n",
      "24 + 83\n",
      "Enter the answer: 56\n",
      "You got 4 points\n"
     ]
    }
   ],
   "source": [
    "point = 0\n",
    "for x in range(0,5):\n",
    "    random_num1 = random.randint(1,100)\n",
    "    random_num2 = random.randint(1,100)\n",
    "    quiz = random_num1 + random_num2\n",
    "    print(f'{random_num1} + {random_num2}')\n",
    "    answer = int(input(\"Enter the answer: \"))\n",
    "    if quiz == answer:\n",
    "        point+=1\n",
    "        \n",
    "print(f'You got {point} points')"
   ]
  },
  {
   "cell_type": "markdown",
   "id": "2503239d",
   "metadata": {},
   "source": [
    "# 059 \n",
    "Display five colours and ask the user to pick one. If they \n",
    "pick the same as the program has chosen, say “Well \n",
    "done”, otherwise display a witty answer which involves \n",
    "the correct colour, e.g. “I bet you are GREEN with envy” \n",
    "or “You are probably feeling BLUE right now”. Ask \n",
    "them to guess again; if they have still not got it right, \n",
    "keep giving them the same clue and ask the user to \n",
    "enter a colour until they guess it correctly. \n"
   ]
  },
  {
   "cell_type": "code",
   "execution_count": 8,
   "id": "7913dd80",
   "metadata": {},
   "outputs": [
    {
     "name": "stdout",
     "output_type": "stream",
     "text": [
      "Black, Red, Blue, White, Green\n",
      "\n",
      "Guess a colour: white\n",
      "I bet you are Black with envy\n",
      "Guess again: green\n",
      "I bet you are Black with envy\n",
      "Guess again: black\n",
      "Well done\n"
     ]
    }
   ],
   "source": [
    "import random\n",
    "colours_choose = random.choice([\"Black\", \"Red\", \"Blue\", \"White\", \"Green\"])\n",
    "guess = input(\"Black, Red, Blue, White, Green\\n\\nGuess a colour: \")\n",
    "\n",
    "while True:\n",
    "    if guess.lower() == colours_choose.lower():\n",
    "        print(\"Well done\")\n",
    "        break\n",
    "    else:\n",
    "        if colours_choose.lower() == 'black':\n",
    "            print(f\"I bet you are {colours_choose} with envy\")\n",
    "            guess = input(\"Guess again: \")\n",
    "        elif colours_choose.lower() == 'red':\n",
    "            print(f'You are probably feeling {colours_choose} right now')\n",
    "            guess = input(\"Guess again: \")\n",
    "        elif colours_choose.lower() == 'green':\n",
    "            print(f'Everything is {colours_choose} and happy')\n",
    "            guess = input(\"Guess again: \")\n",
    "        elif colours_choose.lower() == 'blue':\n",
    "            print(f'Voilets are {colours_choose}')\n",
    "            guess = input(\"Guess again: \")\n",
    "        elif colours_choose.lower() == 'white':\n",
    "            print(f'You look like a snow {colours_choose}')\n",
    "            guess = input(\"Guess again: \")\n",
    "        \n",
    "        "
   ]
  }
 ],
 "metadata": {
  "kernelspec": {
   "display_name": "Python 3",
   "language": "python",
   "name": "python3"
  },
  "language_info": {
   "codemirror_mode": {
    "name": "ipython",
    "version": 3
   },
   "file_extension": ".py",
   "mimetype": "text/x-python",
   "name": "python",
   "nbconvert_exporter": "python",
   "pygments_lexer": "ipython3",
   "version": "3.8.8"
  }
 },
 "nbformat": 4,
 "nbformat_minor": 5
}
