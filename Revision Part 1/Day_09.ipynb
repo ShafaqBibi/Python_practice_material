{
 "cells": [
  {
   "cell_type": "markdown",
   "id": "004db4b4",
   "metadata": {},
   "source": [
    "# File Handling"
   ]
  },
  {
   "cell_type": "markdown",
   "id": "95c27517",
   "metadata": {},
   "source": [
    "# 01 \n",
    "Write a new file \n",
    "called \n",
    "“Numbers.txt”. \n",
    "Add five numbers \n",
    "to the document \n",
    "which are stored \n",
    "on the same line \n",
    "and only \n",
    "separated by a \n",
    "comma. Once you \n",
    "have run the \n",
    "program, look in \n",
    "the location where \n",
    "your program is \n",
    "stored and you \n",
    "should see that \n",
    "the file has been \n",
    "created. The \n",
    "easiest way to \n",
    "view the contents \n",
    "of the new text file\n",
    "on a Windows \n",
    "system is to read it \n",
    "using Notepad. "
   ]
  },
  {
   "cell_type": "code",
   "execution_count": 1,
   "id": "afe8a0b5",
   "metadata": {},
   "outputs": [],
   "source": [
    "with open(\"Numbers.txt\", \"w\") as numbers_handler:\n",
    "    numbers_handler.write(\"1,2,3,4,5\")"
   ]
  },
  {
   "cell_type": "code",
   "execution_count": 2,
   "id": "bda6f7a9",
   "metadata": {},
   "outputs": [
    {
     "name": "stdout",
     "output_type": "stream",
     "text": [
      "1,2,3,4,5\n"
     ]
    }
   ],
   "source": [
    "numbers_handler = open(\"Numbers.txt\")\n",
    "nums = numbers_handler.read()\n",
    "print(nums)\n",
    "numbers_handler.close()"
   ]
  },
  {
   "cell_type": "markdown",
   "id": "f27bc60f",
   "metadata": {},
   "source": [
    "# 02\n",
    "\n",
    "Create a new file called “Names.txt”. Add five names to the \n",
    "document, which are stored on separate lines. Once you have \n",
    "run the program, look in the location where your program is \n",
    "stored and check that the file has been created properly. "
   ]
  },
  {
   "cell_type": "code",
   "execution_count": 3,
   "id": "96491a5d",
   "metadata": {},
   "outputs": [],
   "source": [
    "with open(\"Names.txt\", \"w\") as names:\n",
    "    names.write(\"Shafaq\\nZainab\\nShayan\\nZaid\\nZirwa\")"
   ]
  },
  {
   "cell_type": "markdown",
   "id": "199db39e",
   "metadata": {},
   "source": [
    "# 03\n",
    " \n",
    "Open the \n",
    "Names.txt \n",
    "file and \n",
    "display \n",
    "the data \n",
    "in Python. "
   ]
  },
  {
   "cell_type": "code",
   "execution_count": 4,
   "id": "50a3e2f2",
   "metadata": {},
   "outputs": [
    {
     "name": "stdout",
     "output_type": "stream",
     "text": [
      "Shafaq\n",
      "Zainab\n",
      "Shayan\n",
      "Zaid\n",
      "Zirwa\n"
     ]
    }
   ],
   "source": [
    "with open(\"Names.txt\") as names:\n",
    "    names_list = names.read()\n",
    "    print(names_list)"
   ]
  },
  {
   "cell_type": "markdown",
   "id": "b4256727",
   "metadata": {},
   "source": [
    "# 04\n",
    "Open the Names.txt file. Ask the user to input a \n",
    "new name. Add this to the end of the file and \n",
    "display the entire file. "
   ]
  },
  {
   "cell_type": "code",
   "execution_count": 5,
   "id": "b13963a5",
   "metadata": {},
   "outputs": [
    {
     "name": "stdout",
     "output_type": "stream",
     "text": [
      "Enter a new name: Tayyiba\n"
     ]
    }
   ],
   "source": [
    "Name = input(\"Enter a new name: \")\n",
    "with open(\"Names.txt\", \"a\") as name_list_handler:\n",
    "    name_list_handler.write(f\"\\n{Name}\")"
   ]
  },
  {
   "cell_type": "code",
   "execution_count": 6,
   "id": "c3333d5c",
   "metadata": {},
   "outputs": [
    {
     "name": "stdout",
     "output_type": "stream",
     "text": [
      "Shafaq\n",
      "Zainab\n",
      "Shayan\n",
      "Zaid\n",
      "Zirwa\n",
      "Tayyiba\n"
     ]
    }
   ],
   "source": [
    "with open(\"Names.txt\") as name_list_handler:\n",
    "    name_list = name_list_handler.read()\n",
    "    print(name_list)"
   ]
  },
  {
   "cell_type": "markdown",
   "id": "3814cf5d",
   "metadata": {},
   "source": [
    "# 05\n",
    "Display the following menu to the user: 1) Create a New File. 2) Display the file. 3) Add a new item to the file. \n",
    "Ask the user to enter 1, 2 or 3. If they select \n",
    "anything other than 1, 2 or 3 it should display a \n",
    "suitable error message. \n",
    "If they select 1, ask the user to enter a school \n",
    "subject and save it to a new file called \n",
    "“Subject.txt”. It should overwrite any existing file \n",
    "with a new file. \n",
    "If they select 2, display the contents of the \n",
    "“Subject.txt” file. \n",
    "If they select 3, ask the user to enter a new \n",
    "subject and save it to the file and then display \n",
    "the entire contents of the file. \n",
    "Run the program several times to test the \n",
    "options."
   ]
  },
  {
   "cell_type": "code",
   "execution_count": 7,
   "id": "2a1688cc",
   "metadata": {},
   "outputs": [
    {
     "name": "stdout",
     "output_type": "stream",
     "text": [
      "1) Create a New file.\n",
      "2) Display the file.\n",
      "3) Add a new item to the file.\n",
      "\n",
      "Make a selection 1 2 or 3: 1\n",
      "Enter a School Subject: Artificial Intelligence\n"
     ]
    }
   ],
   "source": [
    "menu = int(input(\"1) Create a New file.\\n2) Display the file.\\n3) Add a new item to the file.\\n\\nMake a selection 1 2 or 3: \"))\n",
    "\n",
    "if menu == 1:\n",
    "    school_subj = input(\"Enter a School Subject: \")\n",
    "    with open(\"Subject.txt\", \"w\") as sch_subj_handler:\n",
    "        sch_subj_handler.write(school_subj)\n",
    "        \n",
    "elif menu == 2:\n",
    "    with open(\"Subject.txt\") as sch_subj_handler:\n",
    "        subjects = sch_subj_handler.read()\n",
    "        print(subjects)\n",
    "    \n",
    "elif menu == 3:\n",
    "    new_subject = input(\"Enter a new subject: \")\n",
    "    with open(\"Subject.txt\", \"a\") as sch_subj_handler:\n",
    "        sch_subj_handler.write(f\"\\n{new_subject}\")\n",
    "        \n",
    "    with open(\"Subject.txt\") as sch_subj_handler:\n",
    "        subject = sch_subj_handler.read()\n",
    "        print(subject)\n",
    "        \n",
    "else:\n",
    "    print(\"Invalid input!\")"
   ]
  },
  {
   "cell_type": "markdown",
   "id": "b1fb5ef3",
   "metadata": {},
   "source": [
    "# 06\n",
    "Using the Names.txt file you \n",
    "created earlier, display the list of \n",
    "names in Python. Ask the user to \n",
    "type in one of the names and then \n",
    "save all the names except the one \n",
    "they entered into a new file called \n",
    "Names2.txt."
   ]
  },
  {
   "cell_type": "code",
   "execution_count": 8,
   "id": "64f5d79d",
   "metadata": {},
   "outputs": [
    {
     "name": "stdout",
     "output_type": "stream",
     "text": [
      "Shafaq\n",
      "Zainab\n",
      "Shayan\n",
      "Zaid\n",
      "Zirwa\n",
      "Tayyiba\n",
      "Enter one of the names you want: Zainab\n"
     ]
    }
   ],
   "source": [
    "with open(\"Names.txt\") as names_list_handler:\n",
    "    name_list = names_list_handler.read()\n",
    "    print(name_list)\n",
    "    \n",
    "with open(\"Names.txt\",\"r\") as names_list_handler:\n",
    "    new_name = input(\"Enter one of the names you want: \")\n",
    "    for n in names_list_handler:\n",
    "        if n != new_name:\n",
    "            with open(\"Names2.txt\", \"a\") as New_name_list:\n",
    "                record = n\n",
    "                New_name_list.write(record)"
   ]
  },
  {
   "cell_type": "code",
   "execution_count": 9,
   "id": "adaf261c",
   "metadata": {},
   "outputs": [],
   "source": [
    "# with open(\"Names.txt\", \"r\") as names_reader:\n",
    "#     rl = names_reader.read()\n",
    "#     print(rl)\n",
    "\n",
    "# with open(\"Names.txt\", \"r\") as names_reader:\n",
    "#     new_name = input(\"Enter a one name from the list: \")\n",
    "#     for n in names_reader:\n",
    "#         if n != new_name:\n",
    "#             with open(\"Names2.txt\", \"a\") as name_writer:\n",
    "#                 record = n\n",
    "#                 name_writer.write(record)"
   ]
  },
  {
   "cell_type": "code",
   "execution_count": 10,
   "id": "e6df2ee7",
   "metadata": {},
   "outputs": [],
   "source": [
    "# # file = open(\"Names.txt\",\"r\")\n",
    "# # print(file.read())\n",
    "# # file.close()\n",
    "\n",
    "# # file = open(\"Names.txt\", \"r\")\n",
    "# # new_name = input(\"Enter a name from the list: \")\n",
    "# # for row in file:\n",
    "# #     if row != new_name:\n",
    "# #         file = open(\"Names2.txt\", \"a\")\n",
    "# #         record = row\n",
    "# #         file.write(record)\n",
    "#         file.close()\n",
    "# file.close()"
   ]
  },
  {
   "cell_type": "code",
   "execution_count": null,
   "id": "a3aa8c47",
   "metadata": {},
   "outputs": [],
   "source": []
  }
 ],
 "metadata": {
  "kernelspec": {
   "display_name": "Python 3",
   "language": "python",
   "name": "python3"
  },
  "language_info": {
   "codemirror_mode": {
    "name": "ipython",
    "version": 3
   },
   "file_extension": ".py",
   "mimetype": "text/x-python",
   "name": "python",
   "nbconvert_exporter": "python",
   "pygments_lexer": "ipython3",
   "version": "3.8.8"
  }
 },
 "nbformat": 4,
 "nbformat_minor": 5
}
