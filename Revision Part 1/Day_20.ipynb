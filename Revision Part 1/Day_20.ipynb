{
 "cells": [
  {
   "cell_type": "markdown",
   "id": "b5487a19",
   "metadata": {},
   "source": [
    "# Revision of all the concepts that i have learned from Day 01 until now."
   ]
  },
  {
   "cell_type": "markdown",
   "id": "cc71ee96",
   "metadata": {},
   "source": [
    "# Part 2"
   ]
  },
  {
   "cell_type": "markdown",
   "id": "52a1aa4d",
   "metadata": {},
   "source": [
    "# 16\n",
    "Print numbers from 1 to 100"
   ]
  },
  {
   "cell_type": "code",
   "execution_count": 1,
   "id": "2c4a0576",
   "metadata": {},
   "outputs": [
    {
     "name": "stdout",
     "output_type": "stream",
     "text": [
      "1 2 3 4 5 6 7 8 9 10 11 12 13 14 15 16 17 18 19 20 21 22 23 24 25 26 27 28 29 30 31 32 33 34 35 36 37 38 39 40 41 42 43 44 45 46 47 48 49 50 51 52 53 54 55 56 57 58 59 60 61 62 63 64 65 66 67 68 69 70 71 72 73 74 75 76 77 78 79 80 81 82 83 84 85 86 87 88 89 90 91 92 93 94 95 96 97 98 99 100 "
     ]
    }
   ],
   "source": [
    "for i in range(1,101):\n",
    "    print(i, end = \" \")"
   ]
  },
  {
   "cell_type": "markdown",
   "id": "a8d5b9cd",
   "metadata": {},
   "source": [
    "# 17\n",
    "Print numbers from 100 to 1\n"
   ]
  },
  {
   "cell_type": "code",
   "execution_count": 2,
   "id": "2d9bd9ab",
   "metadata": {},
   "outputs": [
    {
     "name": "stdout",
     "output_type": "stream",
     "text": [
      "100 99 98 97 96 95 94 93 92 91 90 89 88 87 86 85 84 83 82 81 80 79 78 77 76 75 74 73 72 71 70 69 68 67 66 65 64 63 62 61 60 59 58 57 56 55 54 53 52 51 50 49 48 47 46 45 44 43 42 41 40 39 38 37 36 35 34 33 32 31 30 29 28 27 26 25 24 23 22 21 20 19 18 17 16 15 14 13 12 11 10 9 8 7 6 5 4 3 2 1 "
     ]
    }
   ],
   "source": [
    "i = 100\n",
    "while i>=1:\n",
    "    print(i, end = \" \")\n",
    "    i-=1"
   ]
  },
  {
   "cell_type": "markdown",
   "id": "c10e23a2",
   "metadata": {},
   "source": [
    "# 18\n",
    "Print a multiplication table of any number"
   ]
  },
  {
   "cell_type": "code",
   "execution_count": 3,
   "id": "24181c0a",
   "metadata": {},
   "outputs": [
    {
     "name": "stdout",
     "output_type": "stream",
     "text": [
      "Enter any number for table: 24\n",
      "24 X 1 = 24\n",
      "24 X 2 = 48\n",
      "24 X 3 = 72\n",
      "24 X 4 = 96\n",
      "24 X 5 = 120\n",
      "24 X 6 = 144\n",
      "24 X 7 = 168\n",
      "24 X 8 = 192\n",
      "24 X 9 = 216\n",
      "24 X 10 = 240\n"
     ]
    }
   ],
   "source": [
    "number = int(input(\"Enter any number for table: \"))\n",
    "for i in range(1,11):\n",
    "    print(f'{number} X {i} = {number*i}')"
   ]
  },
  {
   "cell_type": "markdown",
   "id": "e129819e",
   "metadata": {},
   "source": [
    "# 19\n",
    "Print the elements of following list using loop"
   ]
  },
  {
   "cell_type": "markdown",
   "id": "97f8825d",
   "metadata": {},
   "source": [
    "[1,4,9,16,25,36,49,64,81,100]"
   ]
  },
  {
   "cell_type": "code",
   "execution_count": 4,
   "id": "33288d8b",
   "metadata": {},
   "outputs": [
    {
     "name": "stdout",
     "output_type": "stream",
     "text": [
      "1\n",
      "4\n",
      "9\n",
      "16\n",
      "25\n",
      "36\n",
      "49\n",
      "64\n",
      "81\n",
      "100\n"
     ]
    }
   ],
   "source": [
    "num_list = [1,4,9,16,25,36,49,64,81,100]\n",
    "\n",
    "for i in range(len(num_list)):\n",
    "    print(num_list[i])"
   ]
  },
  {
   "cell_type": "markdown",
   "id": "10e29b22",
   "metadata": {},
   "source": [
    "# 20\n",
    "Search for a number x in this tuple using loop"
   ]
  },
  {
   "cell_type": "markdown",
   "id": "716a5745",
   "metadata": {},
   "source": [
    "(1,4,9,16,25,36,49,64,81,100)"
   ]
  },
  {
   "cell_type": "code",
   "execution_count": 5,
   "id": "43767886",
   "metadata": {},
   "outputs": [
    {
     "name": "stdout",
     "output_type": "stream",
     "text": [
      "Found the number at index 8\n"
     ]
    }
   ],
   "source": [
    "num_tup = (1,4,9,16,25,36,49,64,81,100)\n",
    "x = 81\n",
    "n = 0\n",
    "while n<len(num_tup):\n",
    "    if num_tup[n] == x:\n",
    "        print(f\"Found the number at index {n}\")\n",
    "    n+=1"
   ]
  },
  {
   "cell_type": "markdown",
   "id": "68f4bf9a",
   "metadata": {},
   "source": [
    "# 21\n",
    "Search for a number x in this tuple using for loop"
   ]
  },
  {
   "cell_type": "markdown",
   "id": "dfb7af67",
   "metadata": {},
   "source": [
    "(1,4,9,16,25,36,49,64,81,100)"
   ]
  },
  {
   "cell_type": "code",
   "execution_count": 6,
   "id": "a3141cf7",
   "metadata": {},
   "outputs": [
    {
     "name": "stdout",
     "output_type": "stream",
     "text": [
      "25 found at the index of 4\n"
     ]
    }
   ],
   "source": [
    "num_tuple = (1,4,9,16,25,36,49,64,81,100)\n",
    "x = 25\n",
    "n = 0\n",
    "for i in num_tuple:\n",
    "    if x == i:\n",
    "        print(f\"{x} found at the index of {n}\")\n",
    "    n+=1"
   ]
  },
  {
   "cell_type": "markdown",
   "id": "56d11752",
   "metadata": {},
   "source": [
    "# OR"
   ]
  },
  {
   "cell_type": "code",
   "execution_count": 7,
   "id": "e7dc30c5",
   "metadata": {},
   "outputs": [
    {
     "name": "stdout",
     "output_type": "stream",
     "text": [
      "25 found at the index of 4\n"
     ]
    }
   ],
   "source": [
    "num_tuple = (1,4,9,16,25,36,49,64,81,100)\n",
    "x = 25\n",
    "for i in range(len(num_tuple)):\n",
    "    if x == num_tuple[i]:\n",
    "        print(f\"{x} found at the index of {i}\")"
   ]
  },
  {
   "cell_type": "markdown",
   "id": "c18cb5b4",
   "metadata": {},
   "source": [
    "# 22\n",
    "WAP to find the sum of first n numbers by using while loop"
   ]
  },
  {
   "cell_type": "code",
   "execution_count": 8,
   "id": "418ce079",
   "metadata": {},
   "outputs": [
    {
     "name": "stdout",
     "output_type": "stream",
     "text": [
      "55\n"
     ]
    }
   ],
   "source": [
    "i = 1\n",
    "Sum = 0\n",
    "while i<=10:\n",
    "    Sum+=i\n",
    "    i+=1\n",
    "print(Sum)"
   ]
  },
  {
   "cell_type": "markdown",
   "id": "eae9b6f4",
   "metadata": {},
   "source": [
    "# 23\n",
    "WAP to find the factorial of n number by using for loop"
   ]
  },
  {
   "cell_type": "code",
   "execution_count": 5,
   "id": "4cd5d6d9",
   "metadata": {},
   "outputs": [
    {
     "name": "stdout",
     "output_type": "stream",
     "text": [
      "Enter any number: 8\n",
      "40320\n"
     ]
    }
   ],
   "source": [
    "num = int(input(\"Enter any number: \"))\n",
    "factorial = 1\n",
    "for i in range(1,num+1):\n",
    "    factorial*=i\n",
    "print(factorial)"
   ]
  },
  {
   "cell_type": "markdown",
   "id": "55135d79",
   "metadata": {},
   "source": [
    "# 24\n",
    "Write a function to calculate the average of numbers given by the user"
   ]
  },
  {
   "cell_type": "code",
   "execution_count": 6,
   "id": "ea7d8f58",
   "metadata": {},
   "outputs": [
    {
     "name": "stdout",
     "output_type": "stream",
     "text": [
      "Enter 1 number: 6\n",
      "Enter 2 number: 4\n",
      "Enter 3 number: 2\n",
      "4.0\n"
     ]
    }
   ],
   "source": [
    "def average(a,b,c):\n",
    "    avg = (a+b+c)/3\n",
    "    return avg\n",
    "\n",
    "number = []\n",
    "for i in range(1,4):\n",
    "    num = int(input(f\"Enter {i} number: \"))\n",
    "    number.append(num)\n",
    "    \n",
    "result = average(number[0], number[1], number[2])\n",
    "print(result)"
   ]
  },
  {
   "cell_type": "markdown",
   "id": "1d14f225",
   "metadata": {},
   "source": [
    "# 25\n",
    "WAF to print the length of a list. (list is the parameter)"
   ]
  },
  {
   "cell_type": "code",
   "execution_count": 11,
   "id": "3c992cbd",
   "metadata": {},
   "outputs": [
    {
     "name": "stdout",
     "output_type": "stream",
     "text": [
      "5\n"
     ]
    }
   ],
   "source": [
    "list1 = [1,2,3,4,5]\n",
    "\n",
    "def list_len(a):\n",
    "    return len(a)\n",
    "\n",
    "print(list_len(list1))"
   ]
  },
  {
   "cell_type": "markdown",
   "id": "cc4c1177",
   "metadata": {},
   "source": [
    "# 26\n",
    "WAF to print the elements of a list in a single line. (list is the parameter)"
   ]
  },
  {
   "cell_type": "code",
   "execution_count": 12,
   "id": "dad01e4a",
   "metadata": {},
   "outputs": [
    {
     "name": "stdout",
     "output_type": "stream",
     "text": [
      "Karachi Islamabad Lahore Peshawar "
     ]
    }
   ],
   "source": [
    "cities = ['Karachi', 'Islamabad', 'Lahore', 'Peshawar']\n",
    "\n",
    "def print_cities(list):\n",
    "    for i in list:\n",
    "        print(i, end=\" \")\n",
    "        \n",
    "print_cities(cities)"
   ]
  },
  {
   "cell_type": "markdown",
   "id": "4ed62ea3",
   "metadata": {},
   "source": [
    "# 27\n",
    "WAF to find the factorial of n number."
   ]
  },
  {
   "cell_type": "code",
   "execution_count": 7,
   "id": "c6d4b77e",
   "metadata": {},
   "outputs": [
    {
     "name": "stdout",
     "output_type": "stream",
     "text": [
      "Enter any number: 5\n",
      "120\n"
     ]
    }
   ],
   "source": [
    "def factorial(n):\n",
    "    factorial = 1\n",
    "    for i in range(1,num+1):\n",
    "        factorial*=i\n",
    "    print(factorial)\n",
    "    \n",
    "num = int(input(\"Enter any number: \"))\n",
    "factorial(num)"
   ]
  },
  {
   "cell_type": "markdown",
   "id": "ebf82231",
   "metadata": {},
   "source": [
    "# 28\n",
    "WAF to convert USD to PKR"
   ]
  },
  {
   "cell_type": "code",
   "execution_count": 8,
   "id": "b5a4f387",
   "metadata": {},
   "outputs": [
    {
     "name": "stdout",
     "output_type": "stream",
     "text": [
      "Enter USD currency: 25\n",
      "25 USD is PKR 6925\n"
     ]
    }
   ],
   "source": [
    "def currency_converter(usd):\n",
    "    usd_to_pkr = 277\n",
    "    pkr = usd * usd_to_pkr\n",
    "    return pkr\n",
    "\n",
    "amount = int(input(\"Enter USD currency: \"))\n",
    "print(f\"{amount} USD is PKR {currency_converter(amount)}\")"
   ]
  },
  {
   "cell_type": "markdown",
   "id": "8168c819",
   "metadata": {},
   "source": [
    "# 30\n",
    "WAF to find that the given number is odd or even."
   ]
  },
  {
   "cell_type": "code",
   "execution_count": 9,
   "id": "8fd0dd4c",
   "metadata": {},
   "outputs": [
    {
     "name": "stdout",
     "output_type": "stream",
     "text": [
      "Enter any number: 2569\n",
      "2569 is Odd\n"
     ]
    }
   ],
   "source": [
    "def odd_even(num):\n",
    "    if num%2 == 0:\n",
    "        print(f\"{num} is Even\")\n",
    "    else:\n",
    "        print(f\"{num} is Odd\")\n",
    "        \n",
    "number = int(input(\"Enter any number: \"))\n",
    "odd_even(number)"
   ]
  },
  {
   "cell_type": "code",
   "execution_count": 10,
   "id": "8671aeb0",
   "metadata": {},
   "outputs": [
    {
     "data": {
      "text/plain": [
       "'D:\\\\Pyhton Practice\\\\Python Revision'"
      ]
     },
     "execution_count": 10,
     "metadata": {},
     "output_type": "execute_result"
    }
   ],
   "source": [
    "pwd"
   ]
  },
  {
   "cell_type": "code",
   "execution_count": null,
   "id": "250516b1",
   "metadata": {},
   "outputs": [],
   "source": []
  }
 ],
 "metadata": {
  "kernelspec": {
   "display_name": "Python 3",
   "language": "python",
   "name": "python3"
  },
  "language_info": {
   "codemirror_mode": {
    "name": "ipython",
    "version": 3
   },
   "file_extension": ".py",
   "mimetype": "text/x-python",
   "name": "python",
   "nbconvert_exporter": "python",
   "pygments_lexer": "ipython3",
   "version": "3.8.8"
  }
 },
 "nbformat": 4,
 "nbformat_minor": 5
}
