{
 "cells": [
  {
   "cell_type": "markdown",
   "id": "51f4d3fb",
   "metadata": {},
   "source": [
    "# Mini_Project"
   ]
  },
  {
   "cell_type": "markdown",
   "id": "ccb7c414",
   "metadata": {},
   "source": [
    "# Library Management System"
   ]
  },
  {
   "cell_type": "code",
   "execution_count": 2,
   "id": "4b357a9a",
   "metadata": {},
   "outputs": [
    {
     "name": "stdout",
     "output_type": "stream",
     "text": [
      "\n",
      "Welcom To The Book World\n",
      "\n",
      "Want to Remove, Add or Check any book? (R/A/C): a\n",
      "Enter a book name you want to add: Artificial Intelligence\n",
      "\n",
      "Book: Artificial Intelligence Successfully added!\n",
      "Want to exit? (y/n): n\n",
      "Want to Remove, Add or Check any book? (R/A/C): a\n",
      "Enter a book name you want to add: Python\n",
      "\n",
      "Book: Python Successfully added!\n",
      "Want to exit? (y/n): n\n",
      "Want to Remove, Add or Check any book? (R/A/C): a\n",
      "Enter a book name you want to add: Robotics\n",
      "\n",
      "Book: Robotics Successfully added!\n",
      "Want to exit? (y/n): n\n",
      "Want to Remove, Add or Check any book? (R/A/C): c\n",
      "Available Books: \n",
      "Artificial Intelligence\n",
      "Python\n",
      "Robotics\n",
      "Want to exit? (y/n): n\n",
      "Want to Remove, Add or Check any book? (R/A/C): r\n",
      "Enter a book name you want to remove: Python\n",
      "\n",
      "Book: Python successfully removed!\n",
      "Want to exit? (y/n): n\n",
      "Want to Remove, Add or Check any book? (R/A/C): c\n",
      "Available Books: \n",
      "Artificial Intelligence\n",
      "Robotics\n",
      "Want to exit? (y/n): y\n"
     ]
    }
   ],
   "source": [
    "print(\"\\nWelcom To The Book World\\n\")\n",
    "\n",
    "Books = []\n",
    "\n",
    "def addBook():\n",
    "    bookName = input(\"Enter a book name you want to add: \")\n",
    "    if bookName in Books:\n",
    "        print(\"\\nAlready Exist\") \n",
    "    else:\n",
    "        Books.append(bookName)\n",
    "        print(\"\\nBook: \" + bookName + \" Successfully added!\")\n",
    "\n",
    "\n",
    "def remBook():\n",
    "    bookName = input(\"Enter a book name you want to remove: \")\n",
    "    if bookName in Books:\n",
    "        Books.remove(bookName)\n",
    "        print(\"\\nBook: \" + bookName + \" successfully removed!\")\n",
    "    else:\n",
    "        print(\"\\nNot Exist\")\n",
    "\n",
    "def checkBook():\n",
    "    if not Books:\n",
    "        print(\"Library is empty... You can add books in library\")\n",
    "    else:\n",
    "        print(\"Available Books: \")\n",
    "        for b in Books:\n",
    "            print(b)\n",
    "            \n",
    "\n",
    "while True:\n",
    "    ques = input(\"Want to Remove, Add or Check any book? (R/A/C): \")\n",
    "    if ques.lower() == 'r':\n",
    "        remBook()\n",
    "    elif ques.lower() == 'a':\n",
    "        addBook()\n",
    "    elif ques.lower() == 'c':\n",
    "        checkBook()\n",
    "    else:\n",
    "        print(\"Invalid input!\")\n",
    "\n",
    "    ask = input(\"Want to exit? (y/n): \")\n",
    "    if ask.lower() == 'y':\n",
    "        break"
   ]
  },
  {
   "cell_type": "code",
   "execution_count": null,
   "id": "a93c5181",
   "metadata": {},
   "outputs": [],
   "source": []
  }
 ],
 "metadata": {
  "kernelspec": {
   "display_name": "Python 3",
   "language": "python",
   "name": "python3"
  },
  "language_info": {
   "codemirror_mode": {
    "name": "ipython",
    "version": 3
   },
   "file_extension": ".py",
   "mimetype": "text/x-python",
   "name": "python",
   "nbconvert_exporter": "python",
   "pygments_lexer": "ipython3",
   "version": "3.8.8"
  }
 },
 "nbformat": 4,
 "nbformat_minor": 5
}
