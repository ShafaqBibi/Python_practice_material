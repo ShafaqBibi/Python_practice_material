{
 "cells": [
  {
   "cell_type": "markdown",
   "id": "221d89c9",
   "metadata": {},
   "source": [
    "# Revision of all the concepts that i have learned from Day 01 until now."
   ]
  },
  {
   "cell_type": "markdown",
   "id": "9d62b4a4",
   "metadata": {},
   "source": [
    "# Part 1"
   ]
  },
  {
   "cell_type": "markdown",
   "id": "8c5ccf07",
   "metadata": {},
   "source": [
    "# 01\n",
    "Write a program to input 2 numbers and print their sum."
   ]
  },
  {
   "cell_type": "code",
   "execution_count": 1,
   "id": "27f3cc64",
   "metadata": {},
   "outputs": [
    {
     "name": "stdout",
     "output_type": "stream",
     "text": [
      "Enter 1st number: 6\n",
      "Enter 2nd number: 8\n",
      "14\n"
     ]
    }
   ],
   "source": [
    "num1 = int(input(\"Enter 1st number: \"))\n",
    "num2 = int(input(\"Enter 2nd number: \"))\n",
    "result = num1+num2\n",
    "print(result)"
   ]
  },
  {
   "cell_type": "markdown",
   "id": "48797bfd",
   "metadata": {},
   "source": [
    "# 02\n",
    "Write a program to input side of a square and print it's area "
   ]
  },
  {
   "cell_type": "code",
   "execution_count": 2,
   "id": "b8e4ca37",
   "metadata": {},
   "outputs": [
    {
     "name": "stdout",
     "output_type": "stream",
     "text": [
      "Enter the side of a square: 5\n",
      "Area of the square is: 25\n"
     ]
    }
   ],
   "source": [
    "side = int(input(\"Enter the side of a square: \"))\n",
    "print(f'Area of the square is: {side**2}')"
   ]
  },
  {
   "cell_type": "markdown",
   "id": "5f480a85",
   "metadata": {},
   "source": [
    "# 03\n",
    "Write a program to input 2 floating numbers and print their average. "
   ]
  },
  {
   "cell_type": "code",
   "execution_count": 3,
   "id": "81c6fac1",
   "metadata": {},
   "outputs": [
    {
     "name": "stdout",
     "output_type": "stream",
     "text": [
      "Enter 1st number: 8\n",
      "Enter 2nd number: 6\n",
      "The average of 8.0 and 6.0 is 7.0\n"
     ]
    }
   ],
   "source": [
    "num1 = float(input(\"Enter 1st number: \"))\n",
    "num2 = float(input(\"Enter 2nd number: \"))\n",
    "average = (num1+num2)/2\n",
    "print(f'The average of {num1} and {num2} is {average}')"
   ]
  },
  {
   "cell_type": "markdown",
   "id": "f96d9382",
   "metadata": {},
   "source": [
    "# 04\n",
    "Write a program to input 2 int numbers, a and b. Print True if a is greater or equal to b, if not print False."
   ]
  },
  {
   "cell_type": "code",
   "execution_count": 4,
   "id": "e96813d3",
   "metadata": {},
   "outputs": [
    {
     "name": "stdout",
     "output_type": "stream",
     "text": [
      "Enter 1st number: 9\n",
      "Enter 2nd number: 7\n",
      "True\n"
     ]
    }
   ],
   "source": [
    "a = int(input(\"Enter 1st number: \"))\n",
    "b = int(input(\"Enter 2nd number: \"))\n",
    "\n",
    "if a>=b:\n",
    "    print(True)\n",
    "else:\n",
    "    print(False)"
   ]
  },
  {
   "cell_type": "markdown",
   "id": "fcb40318",
   "metadata": {},
   "source": [
    "# OR"
   ]
  },
  {
   "cell_type": "code",
   "execution_count": 5,
   "id": "11a1ae16",
   "metadata": {},
   "outputs": [
    {
     "name": "stdout",
     "output_type": "stream",
     "text": [
      "Enter 1st number: 12\n",
      "Enter 2nd number: 15\n",
      "False\n"
     ]
    }
   ],
   "source": [
    "a = int(input(\"Enter 1st number: \"))\n",
    "b = int(input(\"Enter 2nd number: \"))\n",
    "print(a>=b)"
   ]
  },
  {
   "cell_type": "markdown",
   "id": "dd664f62",
   "metadata": {},
   "source": [
    "# 05\n",
    "Write a python program to check if a number entered by the user is odd or even."
   ]
  },
  {
   "cell_type": "code",
   "execution_count": 6,
   "id": "aacf3bdd",
   "metadata": {},
   "outputs": [
    {
     "name": "stdout",
     "output_type": "stream",
     "text": [
      "Enter a number: 126\n",
      "Number is Even\n"
     ]
    }
   ],
   "source": [
    "num = int(input(\"Enter a number: \"))\n",
    "if num%2==0:\n",
    "    print(\"Number is Even\")\n",
    "else:\n",
    "    print(\"Number is Odd\")"
   ]
  },
  {
   "cell_type": "markdown",
   "id": "3bb6b36d",
   "metadata": {},
   "source": [
    "# 06\n",
    "Write a program to find the greatest of the 3 numbers entered by the user. "
   ]
  },
  {
   "cell_type": "code",
   "execution_count": 7,
   "id": "71362484",
   "metadata": {},
   "outputs": [
    {
     "name": "stdout",
     "output_type": "stream",
     "text": [
      "Enter 1st number: 8\n",
      "Enter 2nd number: 15\n",
      "Enter 3rd number: 6\n",
      "15 is greater\n"
     ]
    }
   ],
   "source": [
    "num1 = int(input(\"Enter 1st number: \"))\n",
    "num2 = int(input(\"Enter 2nd number: \"))\n",
    "num3 = int(input(\"Enter 3rd number: \"))\n",
    "\n",
    "if num1>num2 and num1>num3:\n",
    "    print(f\"{num1} is greater\")\n",
    "elif num2>num1 and num2>num3:\n",
    "    print(f\"{num2} is greater\")\n",
    "else:\n",
    "    print(f\"{num3} is greater\")"
   ]
  },
  {
   "cell_type": "markdown",
   "id": "708d5ad1",
   "metadata": {},
   "source": [
    "# 07\n",
    "Write a program to check if a number is multiple of 7 or not"
   ]
  },
  {
   "cell_type": "code",
   "execution_count": 8,
   "id": "8907333a",
   "metadata": {},
   "outputs": [
    {
     "name": "stdout",
     "output_type": "stream",
     "text": [
      "Enter a number: 49\n",
      "49 is multiple of 7\n"
     ]
    }
   ],
   "source": [
    "num = int(input(\"Enter a number: \"))\n",
    "if num%7==0:\n",
    "    print(f'{num} is multiple of 7')\n",
    "else:\n",
    "    print(f'{num} is not multiple of 7')"
   ]
  },
  {
   "cell_type": "markdown",
   "id": "9baa6128",
   "metadata": {},
   "source": [
    "# 08\n",
    "Write a python program to ask the user to enter names of their 3 favorite fruits and store them in a list."
   ]
  },
  {
   "cell_type": "code",
   "execution_count": 9,
   "id": "3d340746",
   "metadata": {},
   "outputs": [
    {
     "name": "stdout",
     "output_type": "stream",
     "text": [
      "Enter 1st favorite fruit: Strawberry\n",
      "Enter 2nd favorite fruit: Orange\n",
      "Enter 3rd favorite fruit: Apple\n",
      "['Strawberry', 'Orange', 'Apple']\n"
     ]
    }
   ],
   "source": [
    "fruit_list = []\n",
    "fruit1 = input(\"Enter 1st favorite fruit: \")\n",
    "fruit2 = input(\"Enter 2nd favorite fruit: \")\n",
    "fruit3 = input(\"Enter 3rd favorite fruit: \")\n",
    "fruit_list.append(fruit1)\n",
    "fruit_list.append(fruit2)\n",
    "fruit_list.append(fruit3)\n",
    "print(fruit_list)"
   ]
  },
  {
   "cell_type": "markdown",
   "id": "de66aa36",
   "metadata": {},
   "source": [
    "# OR"
   ]
  },
  {
   "cell_type": "code",
   "execution_count": 10,
   "id": "f289dc84",
   "metadata": {},
   "outputs": [
    {
     "name": "stdout",
     "output_type": "stream",
     "text": [
      "Enter 1st favorite fruit: Banana\n",
      "Enter 2nd favorite fruit: Pineapple\n",
      "Enter 3rd favorite fruit: Orange\n",
      "['Banana', 'Pineapple', 'Orange']\n"
     ]
    }
   ],
   "source": [
    "fruit_list = []\n",
    "fruit_list.append(input(\"Enter 1st favorite fruit: \"))\n",
    "fruit_list.append(input(\"Enter 2nd favorite fruit: \"))\n",
    "fruit_list.append(input(\"Enter 3rd favorite fruit: \"))\n",
    "print(fruit_list)"
   ]
  },
  {
   "cell_type": "markdown",
   "id": "fd3bacea",
   "metadata": {},
   "source": [
    "# 09\n",
    "Write a python program to check if a list contains a palindrome of elements."
   ]
  },
  {
   "cell_type": "code",
   "execution_count": 11,
   "id": "586dc4df",
   "metadata": {},
   "outputs": [
    {
     "name": "stdout",
     "output_type": "stream",
     "text": [
      "This list is palindrome\n"
     ]
    }
   ],
   "source": [
    "list1 = ['r', 'a', 'c', 'e', 'c', 'a', 'r']\n",
    "list2 = list1.copy()\n",
    "list2.reverse()\n",
    "if list1 == list2:\n",
    "    print(\"This list is palindrome\")\n",
    "else:\n",
    "    print(\"This list is not a palindrome\")"
   ]
  },
  {
   "cell_type": "markdown",
   "id": "2305c3e0",
   "metadata": {},
   "source": [
    "# 10\n",
    "WAP to count the number of students with the \"A\" Grade in the following tuple"
   ]
  },
  {
   "cell_type": "markdown",
   "id": "80e4ced7",
   "metadata": {},
   "source": [
    "('C', 'D', 'A', 'A', 'B', 'B', 'A')"
   ]
  },
  {
   "cell_type": "code",
   "execution_count": 12,
   "id": "63785932",
   "metadata": {},
   "outputs": [
    {
     "name": "stdout",
     "output_type": "stream",
     "text": [
      "3 students got \"A\" grade\n"
     ]
    }
   ],
   "source": [
    "grade = ('C', 'D', 'A', 'A', 'B', 'B', 'A')\n",
    "print(f'{grade.count(\"A\")} students got \"A\" grade')"
   ]
  },
  {
   "cell_type": "markdown",
   "id": "a6de1c00",
   "metadata": {},
   "source": [
    "# 11\n",
    "store the above values in the list and sort them from \"A\" to \"D\"."
   ]
  },
  {
   "cell_type": "code",
   "execution_count": 13,
   "id": "d5d0c3c7",
   "metadata": {},
   "outputs": [
    {
     "name": "stdout",
     "output_type": "stream",
     "text": [
      "['A', 'A', 'A', 'B', 'B', 'C', 'D']\n"
     ]
    }
   ],
   "source": [
    "grade = ['C', 'D', 'A', 'A', 'B', 'B', 'A']\n",
    "grade.sort()\n",
    "print(grade)"
   ]
  },
  {
   "cell_type": "markdown",
   "id": "33ec9f0b",
   "metadata": {},
   "source": [
    "# 12\n",
    "Store following word meanings in a python dictionary:"
   ]
  },
  {
   "cell_type": "markdown",
   "id": "4b639031",
   "metadata": {},
   "source": [
    "\"table\" : \"a piece of furniture\", \"list of facts and figures\"\n",
    "\"cat\" : \"a small animal\""
   ]
  },
  {
   "cell_type": "code",
   "execution_count": 14,
   "id": "06c0d054",
   "metadata": {},
   "outputs": [
    {
     "name": "stdout",
     "output_type": "stream",
     "text": [
      "{'table': ['a piece of furniture', 'list of facts and figures'], 'cat': 'a small animal'}\n"
     ]
    }
   ],
   "source": [
    "dictionary = {\n",
    "    \"table\" : [\"a piece of furniture\", \"list of facts and figures\"], \n",
    "    \"cat\" : \"a small animal\"\n",
    "}\n",
    "\n",
    "print(dictionary)"
   ]
  },
  {
   "cell_type": "markdown",
   "id": "0b48d6c3",
   "metadata": {},
   "source": [
    "# 13\n",
    "You are given a list of subjects for students. Assume one classroom is required for 1 subject. How many classrooms are needed for all subjects?"
   ]
  },
  {
   "cell_type": "code",
   "execution_count": 15,
   "id": "d7b313c1",
   "metadata": {},
   "outputs": [
    {
     "name": "stdout",
     "output_type": "stream",
     "text": [
      "5 classes are needed for all subjects\n"
     ]
    }
   ],
   "source": [
    "subjects = {\"python\", \"java\", \"c++\", \"python\", \"javascript\", \"java\", \"python\", \"java\", \"c++\", \"c\"}\n",
    "classrooms = len(subjects)\n",
    "print(f'{classrooms} classes are needed for all subjects')"
   ]
  },
  {
   "cell_type": "markdown",
   "id": "08f14756",
   "metadata": {},
   "source": [
    "# 14\n",
    "WAP to enter marks of three subjects from the user and store them in a dictionary. Start with an empty dictionary and add one by one. Use subject name as key and marks as value."
   ]
  },
  {
   "cell_type": "code",
   "execution_count": 16,
   "id": "d1cae84b",
   "metadata": {},
   "outputs": [
    {
     "name": "stdout",
     "output_type": "stream",
     "text": [
      "Enter the marks of Computer: 95\n",
      "Enter the marks of Maths: 80\n",
      "Enter the marks of English: 85\n",
      "{'Computer': 95, 'Maths': 80, 'English': 85}\n"
     ]
    }
   ],
   "source": [
    "marks = {}\n",
    "subject_marks_1 = int(input(\"Enter the marks of Computer: \"))\n",
    "subject_marks_2 = int(input(\"Enter the marks of Maths: \"))\n",
    "subject_marks_3 = int(input(\"Enter the marks of English: \"))\n",
    "marks.update({\"Computer\" : subject_marks_1, \"Maths\" : subject_marks_2, \"English\" : subject_marks_3})\n",
    "print(marks)"
   ]
  },
  {
   "cell_type": "markdown",
   "id": "f93eecc1",
   "metadata": {},
   "source": [
    "# 15\n",
    "Figure out the way to store 9 and 9.0 as saperate values in the set."
   ]
  },
  {
   "cell_type": "code",
   "execution_count": 17,
   "id": "30051368",
   "metadata": {},
   "outputs": [
    {
     "name": "stdout",
     "output_type": "stream",
     "text": [
      "{9, '9.0'}\n",
      "{9.0, '9'}\n",
      "{('float', 9.0), ('int', 9)}\n"
     ]
    }
   ],
   "source": [
    "#way 1\n",
    "values = {9, '9.0'}\n",
    "print(values)\n",
    "\n",
    "#way 2\n",
    "values = {'9', 9.0}\n",
    "print(values)\n",
    "\n",
    "#way 3\n",
    "values = {(\"float\", 9.0), (\"int\", 9)}\n",
    "print(values)"
   ]
  }
 ],
 "metadata": {
  "kernelspec": {
   "display_name": "Python 3",
   "language": "python",
   "name": "python3"
  },
  "language_info": {
   "codemirror_mode": {
    "name": "ipython",
    "version": 3
   },
   "file_extension": ".py",
   "mimetype": "text/x-python",
   "name": "python",
   "nbconvert_exporter": "python",
   "pygments_lexer": "ipython3",
   "version": "3.8.8"
  }
 },
 "nbformat": 4,
 "nbformat_minor": 5
}
