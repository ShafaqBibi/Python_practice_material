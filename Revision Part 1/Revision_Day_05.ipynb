{
 "cells": [
  {
   "cell_type": "markdown",
   "id": "25ceeb9d",
   "metadata": {},
   "source": [
    "# 069 \n",
    "Create a tuple containing the names of five countries and display the whole tuple. Ask \n",
    "the user to enter one of the countries that have been shown to them and then display \n",
    "the index number (i.e. position in the list) of that item in the tuple."
   ]
  },
  {
   "cell_type": "code",
   "execution_count": 2,
   "id": "9711b58d",
   "metadata": {},
   "outputs": [
    {
     "name": "stdout",
     "output_type": "stream",
     "text": [
      "('Palentine', 'Pakistan', 'India', 'Bangladesh', 'Turkey')\n",
      "Enter one of the countries above them: Bangladesh\n",
      "The index of this country is: 3\n"
     ]
    }
   ],
   "source": [
    "country = ('Palentine', 'Pakistan', 'India', 'Bangladesh', 'Turkey')\n",
    "print(country)\n",
    "answer = input(\"Enter one of the countries above them: \")\n",
    "print(f\"The index of this country is: {country.index(answer)}\")"
   ]
  },
  {
   "cell_type": "markdown",
   "id": "96287a51",
   "metadata": {},
   "source": [
    "# 070 \n",
    "Add to program 069 to ask the \n",
    "user to enter a number and \n",
    "display the country in that \n",
    "position. "
   ]
  },
  {
   "cell_type": "code",
   "execution_count": 5,
   "id": "796d4fc8",
   "metadata": {},
   "outputs": [
    {
     "name": "stdout",
     "output_type": "stream",
     "text": [
      "('Palentine', 'Pakistan', 'India', 'Bangladesh', 'Turkey')\n",
      "Enter one of the countries above them: Turkey\n",
      "The index of this country is: 4\n",
      "\n",
      "Enter a number between 0 to 4 to display a country: 0\n",
      "Palentine\n"
     ]
    }
   ],
   "source": [
    "country = ('Palentine', 'Pakistan', 'India', 'Bangladesh', 'Turkey')\n",
    "country = ('Palentine', 'Pakistan', 'India', 'Bangladesh', 'Turkey')\n",
    "print(country)\n",
    "answer = input(\"Enter one of the countries above them: \")\n",
    "print(f\"The index of this country is: {country.index(answer)}\\n\")\n",
    "num = int(input(\"Enter a number between 0 to 4 to display a country: \"))\n",
    "print(country[num])"
   ]
  },
  {
   "cell_type": "markdown",
   "id": "76664676",
   "metadata": {},
   "source": [
    "# 071 \n",
    "Create a list of two sports. Ask the \n",
    "user what their favourite sport is and \n",
    "add this to the end of the list. Sort the \n",
    "list and display it. "
   ]
  },
  {
   "cell_type": "code",
   "execution_count": 10,
   "id": "ac12dc32",
   "metadata": {},
   "outputs": [
    {
     "name": "stdout",
     "output_type": "stream",
     "text": [
      "Enter your favourite sport: tennis\n",
      "['Cricket', 'Volly ball', 'tennis']\n"
     ]
    }
   ],
   "source": [
    "sports_lst = [\"Cricket\", \"Volly ball\"]\n",
    "sport = input(\"Enter your favourite sport: \")\n",
    "sports_lst.append(sport)\n",
    "sports_lst.sort()\n",
    "print(sports_lst)"
   ]
  },
  {
   "cell_type": "markdown",
   "id": "db2f1d2f",
   "metadata": {},
   "source": [
    "# 072 \n",
    "Create a list of six school subjects. Ask the user which of these \n",
    "subjects they don’t like. Delete the subject they have chosen from the \n",
    "list before you display the list again."
   ]
  },
  {
   "cell_type": "code",
   "execution_count": 13,
   "id": "a43410ec",
   "metadata": {},
   "outputs": [
    {
     "name": "stdout",
     "output_type": "stream",
     "text": [
      "['English', 'Urdu', 'Math', 'Computer', 'Islamiat', 'Science']\n",
      "Enter a subject you don't like: Math\n",
      "['English', 'Urdu', 'Computer', 'Islamiat', 'Science']\n"
     ]
    }
   ],
   "source": [
    "subject_list = ['English', 'Urdu', 'Math', 'Computer', 'Islamiat', 'Science']\n",
    "print(subject_list)\n",
    "subject = input(\"Enter a subject you don't like: \")\n",
    "num = subject_list.index(subject)\n",
    "del subject_list[num]\n",
    "print(subject_list)"
   ]
  },
  {
   "cell_type": "markdown",
   "id": "11adf5e9",
   "metadata": {},
   "source": [
    "# 073 \n",
    "Ask the user to \n",
    "enter four of their \n",
    "favourite foods \n",
    "and store them in \n",
    "a dictionary so \n",
    "that they are \n",
    "indexed with \n",
    "numbers starting \n",
    "from 1. Display \n",
    "the dictionary in \n",
    "full, showing the \n",
    "index number \n",
    "and the item. Ask \n",
    "them which they \n",
    "want to get rid of \n",
    "and remove it \n",
    "from the list. Sort \n",
    "the remaining \n",
    "data and display \n",
    "the dictionary."
   ]
  },
  {
   "cell_type": "code",
   "execution_count": 1,
   "id": "26416779",
   "metadata": {},
   "outputs": [
    {
     "name": "stdout",
     "output_type": "stream",
     "text": [
      "Enter your favourite food: Biryani\n",
      "Enter your favourite food: Chicken Tikka\n",
      "Enter your favourite food: Pasta\n",
      "Enter your favourite food: Khawsa\n",
      "{1: 'Biryani', 2: 'Chicken Tikka', 3: 'Pasta', 4: 'Khawsa'}\n",
      "Which food you want to remove: 3\n",
      "{1: 'Biryani', 2: 'Chicken Tikka', 4: 'Khawsa'}\n"
     ]
    }
   ],
   "source": [
    "food_store = {}\n",
    "for i in range(1,5):\n",
    "    index = i\n",
    "    food = input(\"Enter your favourite food: \")\n",
    "    food_store.update({i:food})\n",
    "    \n",
    "print(food_store)\n",
    "food_rem = int(input(\"Which food you want to remove: \"))\n",
    "del food_store[food_rem]\n",
    "print(food_store)"
   ]
  },
  {
   "cell_type": "markdown",
   "id": "d523985e",
   "metadata": {},
   "source": [
    "# 074 \n",
    "Enter a list of ten colours. \n",
    "Ask the user for a starting \n",
    "number between 0 and 4 \n",
    "and an end number \n",
    "between 5 and 9. Display \n",
    "the list for those colours \n",
    "between the start and end \n",
    "numbers the user input. "
   ]
  },
  {
   "cell_type": "code",
   "execution_count": 3,
   "id": "09fcd53b",
   "metadata": {},
   "outputs": [
    {
     "name": "stdout",
     "output_type": "stream",
     "text": [
      "Enter starting number between 0 and 4: 3\n",
      "Enter ending number between 5 and 9: 8\n",
      "['purple', 'white', 'orange', 'green', 'yellow']\n"
     ]
    }
   ],
   "source": [
    "colours = ['black', 'red', 'blue', 'purple', 'white', 'orange', 'green', 'yellow', 'brown', 'pink']\n",
    "starting_num = int(input(\"Enter starting number between 0 and 4: \"))\n",
    "ending_num = int(input(\"Enter ending number between 5 and 9: \"))\n",
    "print(colours[starting_num:ending_num])"
   ]
  },
  {
   "cell_type": "markdown",
   "id": "a046c8fc",
   "metadata": {},
   "source": [
    "# 075 \n",
    "Create a list of four three-digit \n",
    "numbers. Display the list to the \n",
    "user, showing each item from \n",
    "the list on a separate line. Ask \n",
    "the user to enter a three-digit \n",
    "number. If the number they \n",
    "have typed in matches one in \n",
    "the list, display the position of \n",
    "that number in the list, \n",
    "otherwise display the message \n",
    "“That is not in the list”. "
   ]
  },
  {
   "cell_type": "code",
   "execution_count": 6,
   "id": "53b3c4a0",
   "metadata": {},
   "outputs": [
    {
     "name": "stdout",
     "output_type": "stream",
     "text": [
      "100\n",
      "101\n",
      "102\n",
      "103\n",
      "Enter a three-digit number from the list: 105\n",
      "105 not in the list\n"
     ]
    }
   ],
   "source": [
    "num_list = [100, 101, 102, 103]\n",
    "for i in num_list:\n",
    "    print(i)\n",
    "take_num = int(input(\"Enter a three-digit number from the list: \"))\n",
    "if take_num in num_list:\n",
    "    print(f'The position of {take_num} is {num_list.index(take_num)}')\n",
    "else:\n",
    "    print(f'{take_num} not in the list')"
   ]
  },
  {
   "cell_type": "markdown",
   "id": "bded49bc",
   "metadata": {},
   "source": [
    "# 076 \n",
    "Ask the user to enter the names of three people they want to \n",
    "invite to a party and store them in a list. After they have entered \n",
    "all three names, ask them if they want to add another. If they do, \n",
    "allow them to add more names until they answer “no”. When \n",
    "they answer “no”, display how many people they have invited to \n",
    "the party. "
   ]
  },
  {
   "cell_type": "code",
   "execution_count": 8,
   "id": "dd5f7774",
   "metadata": {},
   "outputs": [
    {
     "name": "stdout",
     "output_type": "stream",
     "text": [
      "Enter 1 person name you want to invite: Shafaq\n",
      "Enter 2 person name you want to invite: Zainab\n",
      "Enter 3 person name you want to invite: Shahana\n",
      "Want to invite more (y/n): y\n",
      "Enter a person name you want to invite: Maria\n",
      "Want to invite more (y/n): y\n",
      "Enter a person name you want to invite: Fakhra\n",
      "Want to invite more (y/n): y\n",
      "Enter a person name you want to invite: Tayyiba\n",
      "Want to invite more (y/n): y\n",
      "Enter a person name you want to invite: Hira\n",
      "Want to invite more (y/n): n\n",
      "You have invited 7 person in party\n"
     ]
    }
   ],
   "source": [
    "invitation_list = []\n",
    "for i in range(1,4):\n",
    "    names = input(f\"Enter {i} person name you want to invite: \")\n",
    "    invitation_list.append(names)\n",
    "while True:\n",
    "    more_invitation = input(\"Want to invite more (y/n): \")\n",
    "    if more_invitation == 'y':\n",
    "        names = input(\"Enter a person name you want to invite: \")\n",
    "        invitation_list.append(names)\n",
    "    else:\n",
    "        break\n",
    "print(f'You have invited {len(invitation_list)} person in party')\n"
   ]
  },
  {
   "cell_type": "markdown",
   "id": "83c796f5",
   "metadata": {},
   "source": [
    "# 077 \n",
    "Change program 076 so that once the user has completed their list of names, display the \n",
    "full list and ask them to type in one of the names on the list. Display the position of that \n",
    "name in the list. Ask the user if they still want that person to come to the party. If they \n",
    "answer “no”, delete that entry from the list and display the list again."
   ]
  },
  {
   "cell_type": "code",
   "execution_count": 10,
   "id": "74d1cac6",
   "metadata": {},
   "outputs": [
    {
     "name": "stdout",
     "output_type": "stream",
     "text": [
      "Enter 1 person name you want to invite: Shafaq\n",
      "Enter 2 person name you want to invite: Zainab\n",
      "Enter 3 person name you want to invite: Kashu\n",
      "Want to invite more (y/n): y\n",
      "Enter a person name you want to invite: Maria\n",
      "Want to invite more (y/n): y\n",
      "Enter a person name you want to invite: Fakhra\n",
      "Want to invite more (y/n): y\n",
      "Enter a person name you want to invite: Tayyiba\n",
      "Want to invite more (y/n): y\n",
      "Enter a person name you want to invite: Hira\n",
      "Want to invite more (y/n): y\n",
      "Enter a person name you want to invite: Shahana\n",
      "Want to invite more (y/n): n\n",
      "['Shafaq', 'Zainab', 'Kashu', 'Maria', 'Fakhra', 'Tayyiba', 'Hira', 'Shahana']\n",
      "Enter one name from a list:  Kashu\n",
      "The position of Kashu is 2\n",
      "You want Kashu to come to the party? (y/n): n\n",
      "['Shafaq', 'Zainab', 'Maria', 'Fakhra', 'Tayyiba', 'Hira', 'Shahana']\n"
     ]
    }
   ],
   "source": [
    "invitation_list = []\n",
    "for i in range(1,4):\n",
    "    names = input(f\"Enter {i} person name you want to invite: \")\n",
    "    invitation_list.append(names)\n",
    "while True:\n",
    "    more_invitation = input(\"Want to invite more (y/n): \")\n",
    "    if more_invitation == 'y':\n",
    "        names = input(\"Enter a person name you want to invite: \")\n",
    "        invitation_list.append(names)\n",
    "    else:\n",
    "        break\n",
    "print(invitation_list)\n",
    "name_of_person = input(\"Enter one name from a list:  \")\n",
    "print(f'The position of {name_of_person} is {invitation_list.index(name_of_person)}')\n",
    "invitaion_confirmation = input(f'You want {name_of_person} to come to the party? (y/n): ')\n",
    "if invitaion_confirmation == 'n':\n",
    "    invitation_list.remove(name_of_person)\n",
    "print(invitation_list)"
   ]
  },
  {
   "cell_type": "markdown",
   "id": "63d804e6",
   "metadata": {},
   "source": [
    "# 078 \n",
    "Create a list containing the titles of\n",
    "four TV programmes and display \n",
    "them on separate lines. Ask the \n",
    "user to enter another show and a \n",
    "position they want it inserted into \n",
    "the list. Display the list again, \n",
    "showing all five TV programmes in \n",
    "their new positions. "
   ]
  },
  {
   "cell_type": "code",
   "execution_count": 12,
   "id": "fe509c52",
   "metadata": {},
   "outputs": [
    {
     "name": "stdout",
     "output_type": "stream",
     "text": [
      "Jeeto Pakistan\n",
      "Big Boss\n",
      "Paigham-e-Islam\n",
      "Ramzan Pakistan\n",
      "\n",
      "Enter another show: Noor-e-Hidayat\n",
      "\n",
      "Enter a position for that program: 1\n",
      "Jeeto Pakistan\n",
      "Noor-e-Hidayat\n",
      "Big Boss\n",
      "Paigham-e-Islam\n",
      "Ramzan Pakistan\n"
     ]
    }
   ],
   "source": [
    "tv_programs = ['Jeeto Pakistan', 'Big Boss', 'Paigham-e-Islam', 'Ramzan Pakistan']\n",
    "for show in tv_programs:\n",
    "    print(show)\n",
    "add_program = input(\"\\nEnter another show: \")\n",
    "program_position = int(input(\"\\nEnter a position for that program: \"))\n",
    "tv_programs.insert(program_position,add_program)\n",
    "for show in tv_programs:\n",
    "    print(show)"
   ]
  },
  {
   "cell_type": "markdown",
   "id": "2155bd68",
   "metadata": {},
   "source": [
    "# 079 \n",
    "Create an empty list called “nums”. \n",
    "Ask the user to enter numbers. \n",
    "After each number is entered, add \n",
    "it to the end of the nums list and \n",
    "display the list. Once they have \n",
    "entered three numbers, ask them if \n",
    "they still want the last number they \n",
    "entered saved. If they say “no”, \n",
    "remove the last item from the list. \n",
    "Display the list of numbers. "
   ]
  },
  {
   "cell_type": "code",
   "execution_count": 17,
   "id": "cd9d8ce6",
   "metadata": {},
   "outputs": [
    {
     "name": "stdout",
     "output_type": "stream",
     "text": [
      "Enter number: 100\n",
      "[100]\n",
      "Enter number: 101\n",
      "[100, 101]\n",
      "Enter number: 102\n",
      "[100, 101, 102]\n",
      "You still want the last number in the list? (y/n): n\n",
      "[100, 101]\n"
     ]
    }
   ],
   "source": [
    "nums = []\n",
    "for i in range(3):\n",
    "    take_nums = int(input(\"Enter number: \"))\n",
    "    nums.append(take_nums)\n",
    "    print(nums)\n",
    "    if i == 2:\n",
    "        wantNum = input(\"You still want the last number in the list? (y/n): \")\n",
    "        if wantNum == 'n':\n",
    "            nums.remove(take_nums)\n",
    "print(nums)"
   ]
  }
 ],
 "metadata": {
  "kernelspec": {
   "display_name": "Python 3",
   "language": "python",
   "name": "python3"
  },
  "language_info": {
   "codemirror_mode": {
    "name": "ipython",
    "version": 3
   },
   "file_extension": ".py",
   "mimetype": "text/x-python",
   "name": "python",
   "nbconvert_exporter": "python",
   "pygments_lexer": "ipython3",
   "version": "3.8.8"
  }
 },
 "nbformat": 4,
 "nbformat_minor": 5
}
