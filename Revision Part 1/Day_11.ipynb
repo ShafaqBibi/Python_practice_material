{
 "cells": [
  {
   "cell_type": "markdown",
   "id": "db0cf115",
   "metadata": {},
   "source": [
    "# Number Guessing Game"
   ]
  },
  {
   "cell_type": "code",
   "execution_count": 3,
   "id": "7379974f",
   "metadata": {},
   "outputs": [
    {
     "name": "stdout",
     "output_type": "stream",
     "text": [
      "Welcome to Guess Number Game!\n",
      "Only 10 number of Guesses are allowed\n",
      "\n",
      "Guess the number: 2\n",
      "Number is Lesser\n",
      "\n",
      "9 no. of guesses left\n",
      "Guess the number: 5\n",
      "Number is Lesser\n",
      "\n",
      "8 no. of guesses left\n",
      "Guess the number: 15\n",
      "Number is greater\n",
      "\n",
      "7 no. of guesses left\n",
      "Guess the number: 10\n",
      "Number is greater\n",
      "\n",
      "6 no. of guesses left\n",
      "Guess the number: 9\n",
      "Number is greater\n",
      "\n",
      "5 no. of guesses left\n",
      "Guess the number: 8\n",
      "\n",
      "Congratulations! You won the game\n",
      "number of guesses he took to finish are:  6\n"
     ]
    }
   ],
   "source": [
    "import random\n",
    "print(\"Welcome to Guess Number Game!\\nOnly 10 number of Guesses are allowed\\n\")\n",
    "num = random.randint(1,20)\n",
    "num_of_guess = 1\n",
    "while(num_of_guess<=10):\n",
    "    guess_num = int(input(\"Guess the number: \"))\n",
    "    if guess_num>num:\n",
    "        print(\"Number is greater\\n\")\n",
    "    elif guess_num<num:\n",
    "        print(\"Number is Lesser\\n\")\n",
    "    else:\n",
    "        print(\"\\nCongratulations! You won the game\")\n",
    "        print(\"number of guesses he took to finish are: \",num_of_guess)\n",
    "        break\n",
    "    print(10 - num_of_guess, \"no. of guesses left\")\n",
    "    num_of_guess = num_of_guess+1\n",
    "\n",
    "if (num_of_guess>10):\n",
    "    print(\"Game Over! number of guesses are finished\")\n",
    "    print(\"number of guesses you took: \", num_of_guess-1)"
   ]
  },
  {
   "cell_type": "code",
   "execution_count": null,
   "id": "30a7093e",
   "metadata": {},
   "outputs": [],
   "source": []
  },
  {
   "cell_type": "code",
   "execution_count": null,
   "id": "1d2f5ffb",
   "metadata": {},
   "outputs": [],
   "source": []
  }
 ],
 "metadata": {
  "kernelspec": {
   "display_name": "Python 3",
   "language": "python",
   "name": "python3"
  },
  "language_info": {
   "codemirror_mode": {
    "name": "ipython",
    "version": 3
   },
   "file_extension": ".py",
   "mimetype": "text/x-python",
   "name": "python",
   "nbconvert_exporter": "python",
   "pygments_lexer": "ipython3",
   "version": "3.8.8"
  }
 },
 "nbformat": 4,
 "nbformat_minor": 5
}
