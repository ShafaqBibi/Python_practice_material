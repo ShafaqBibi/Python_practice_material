{
 "cells": [
  {
   "cell_type": "markdown",
   "id": "18ee80b4",
   "metadata": {},
   "source": [
    "# 027 \n",
    "Ask the user to enter a \n",
    "number with lots of \n",
    "decimal places. Multiply \n",
    "this number by two and \n",
    "display the answer."
   ]
  },
  {
   "cell_type": "code",
   "execution_count": 1,
   "id": "8997f358",
   "metadata": {},
   "outputs": [
    {
     "name": "stdout",
     "output_type": "stream",
     "text": [
      "Enter a number with lots of decimal places: 125.23697\n",
      "Multiplication of 125.23697 is: 250.47394\n"
     ]
    }
   ],
   "source": [
    "num = float(input(\"Enter a number with lots of decimal places: \"))\n",
    "answer = num*2\n",
    "print(f\"Multiplication of {num} is: {answer}\")"
   ]
  },
  {
   "cell_type": "markdown",
   "id": "a00356b5",
   "metadata": {},
   "source": [
    "# 028 \n",
    "Update program 027 so that it will display the answer to \n",
    "two decimal places. "
   ]
  },
  {
   "cell_type": "code",
   "execution_count": 2,
   "id": "0ee6eb17",
   "metadata": {},
   "outputs": [
    {
     "name": "stdout",
     "output_type": "stream",
     "text": [
      "Enter a number with lots of decimal places: 12.36584\n",
      "Multiplication of 12.36584 is: 24.73\n"
     ]
    }
   ],
   "source": [
    "num = float(input(\"Enter a number with lots of decimal places: \"))\n",
    "answer = num*2\n",
    "print(f\"Multiplication of {num} is: {round(answer, 2)}\")"
   ]
  },
  {
   "cell_type": "markdown",
   "id": "c8136e71",
   "metadata": {},
   "source": [
    "# 029 \n",
    "Ask the user to enter an integer that is over 500. Work \n",
    "out the square root of that number and display it to two\n",
    "decimal places. "
   ]
  },
  {
   "cell_type": "code",
   "execution_count": 3,
   "id": "17664ad1",
   "metadata": {},
   "outputs": [
    {
     "name": "stdout",
     "output_type": "stream",
     "text": [
      "Enter an integer over 500: 501\n",
      "The square root of 501 is: 22.38\n"
     ]
    }
   ],
   "source": [
    "import math\n",
    "num = int(input(\"Enter an integer over 500: \"))\n",
    "print(f'The square root of {num} is: {round(math.sqrt(num), 2)}')"
   ]
  },
  {
   "cell_type": "markdown",
   "id": "60b1aabb",
   "metadata": {},
   "source": [
    "# 030  \n",
    "Display pi (π) to five \n",
    "decimal places. "
   ]
  },
  {
   "cell_type": "code",
   "execution_count": 4,
   "id": "63cb8238",
   "metadata": {},
   "outputs": [
    {
     "name": "stdout",
     "output_type": "stream",
     "text": [
      "3.14\n"
     ]
    }
   ],
   "source": [
    "print(round(math.pi, 2))"
   ]
  },
  {
   "cell_type": "markdown",
   "id": "d54f4294",
   "metadata": {},
   "source": [
    "# 031 \n",
    "Ask the user to enter the radius of a circle \n",
    "(measurement from the centre point to the edge). Work \n",
    "out the area of the circle (π*radius2)."
   ]
  },
  {
   "cell_type": "code",
   "execution_count": 5,
   "id": "2c63afa2",
   "metadata": {},
   "outputs": [
    {
     "name": "stdout",
     "output_type": "stream",
     "text": [
      "Enter the radius of a circle: 5\n",
      "Radius of a circle is: 78.53981633974483\n"
     ]
    }
   ],
   "source": [
    "radius = int(input(\"Enter the radius of a circle: \"))\n",
    "print(f'Radius of a circle is: {math.pi*(radius**2)}')"
   ]
  },
  {
   "cell_type": "markdown",
   "id": "62c05e58",
   "metadata": {},
   "source": [
    "# 032 \n",
    "Ask for the radius and the depth of a cylinder \n",
    "and work out the total volume (circle \n",
    "area*depth) rounded to three decimal \n",
    "places. "
   ]
  },
  {
   "cell_type": "code",
   "execution_count": 6,
   "id": "8bff2a4a",
   "metadata": {},
   "outputs": [
    {
     "name": "stdout",
     "output_type": "stream",
     "text": [
      "Enter the radius of a cylinder: 6\n",
      "Enter the depth/height of a cylinder: 9\n",
      "Radius is 6\n",
      "Depth or height is 9\n",
      "Volume of Cylinder is: 1017.876\n"
     ]
    }
   ],
   "source": [
    "radius = int(input(\"Enter the radius of a cylinder: \"))\n",
    "depth = int(input(\"Enter the depth/height of a cylinder: \"))\n",
    "\n",
    "print(f'Radius is {radius}\\nDepth or height is {depth}\\nVolume of Cylinder is: {round(math.pi*(radius**2)*depth, 3)}')"
   ]
  },
  {
   "cell_type": "markdown",
   "id": "f3843407",
   "metadata": {},
   "source": [
    "# 033 \n",
    "Ask the user to enter two numbers. \n",
    "Use whole number division to divide \n",
    "the first number by the second and \n",
    "also work out the remainder and \n",
    "display the answer in a user-friendly \n",
    "way (e.g. if they enter 7 and 2 display \n",
    "“7 divided by 2 is 3 with 1 \n",
    "remaining”). "
   ]
  },
  {
   "cell_type": "code",
   "execution_count": 7,
   "id": "d5e34883",
   "metadata": {},
   "outputs": [
    {
     "name": "stdout",
     "output_type": "stream",
     "text": [
      "Enter 1st number: 5\n",
      "Enter 2nd number: 6\n",
      "5 divided by 6 is 0 with 5 remaining\n"
     ]
    }
   ],
   "source": [
    "num1 = int(input(\"Enter 1st number: \"))\n",
    "num2 = int(input(\"Enter 2nd number: \"))\n",
    "\n",
    "whole_ans = num1//num2\n",
    "remainder = num1%num2\n",
    "\n",
    "print(f'{num1} divided by {num2} is {whole_ans} with {remainder} remaining')"
   ]
  },
  {
   "cell_type": "markdown",
   "id": "ae5f791b",
   "metadata": {},
   "source": [
    "# 034 \n",
    "Display the following message:\n",
    "1) Square 2) Triangle \n",
    "Enter a number: \n",
    "If the user enters 1, then it should ask them for \n",
    "the length of one of its sides and display the \n",
    "area. If they select 2, it should ask for the base \n",
    "and height of the triangle and display the area. If \n",
    "they type in anything else, it should give them a \n",
    "suitable error message."
   ]
  },
  {
   "cell_type": "code",
   "execution_count": 8,
   "id": "98e4d487",
   "metadata": {},
   "outputs": [
    {
     "name": "stdout",
     "output_type": "stream",
     "text": [
      "1) For Square\n",
      "2) For Triangle\n",
      "\n",
      "Enter a number: 1\n",
      "Enter the length of one side: 5\n",
      "Area of square is: 25\n"
     ]
    }
   ],
   "source": [
    "user_input = input(\"1) For Square\\n2) For Triangle\\n\\nEnter a number: \")\n",
    "\n",
    "if user_input == '1':\n",
    "    side = int(input(\"Enter the length of one side: \"))\n",
    "    area = side*side\n",
    "    print(f'Area of square is: {area}')\n",
    "elif user_input == '2':\n",
    "    height = int(input(\"Enter the height of a triangle: \"))\n",
    "    base = int(input(\"Enter the base of a triangle: \"))\n",
    "    area = (height*base)/2\n",
    "    print(f'The area of a triangle is: {area}')\n",
    "else:\n",
    "    print(\"Incorrect value\")\n",
    "    "
   ]
  },
  {
   "cell_type": "markdown",
   "id": "1f377787",
   "metadata": {},
   "source": [
    "# 035 \n",
    "Ask the user to enter \n",
    "their name and then \n",
    "display their name \n",
    "three times."
   ]
  },
  {
   "cell_type": "code",
   "execution_count": 9,
   "id": "8a80cf42",
   "metadata": {},
   "outputs": [
    {
     "name": "stdout",
     "output_type": "stream",
     "text": [
      "Enter your name here: shafaq\n",
      "shafaq\n",
      "shafaq\n",
      "shafaq\n"
     ]
    }
   ],
   "source": [
    "name = input(\"Enter your name here: \")\n",
    "\n",
    "for i in range(3):\n",
    "    print(name)"
   ]
  },
  {
   "cell_type": "markdown",
   "id": "6eded44e",
   "metadata": {},
   "source": [
    "# 036 \n",
    "Alter program 035 so that it will ask the user to enter their \n",
    "name and a number and then display their name that \n",
    "number of times."
   ]
  },
  {
   "cell_type": "code",
   "execution_count": 10,
   "id": "48ff4082",
   "metadata": {},
   "outputs": [
    {
     "name": "stdout",
     "output_type": "stream",
     "text": [
      "Enter your name: zainab\n",
      "How many times you want to display your name?: 5\n",
      "zainab\n",
      "zainab\n",
      "zainab\n",
      "zainab\n",
      "zainab\n"
     ]
    }
   ],
   "source": [
    "name = input(\"Enter your name: \")\n",
    "number = int(input(\"How many times you want to display your name?: \"))\n",
    "\n",
    "for i in range(number):\n",
    "    print(name)"
   ]
  },
  {
   "cell_type": "markdown",
   "id": "7a2a7d2f",
   "metadata": {},
   "source": [
    "# 037 \n",
    "Ask the user to enter their name and display each letter in \n",
    "their name on a separate line. "
   ]
  },
  {
   "cell_type": "code",
   "execution_count": 11,
   "id": "9a9deb1e",
   "metadata": {},
   "outputs": [
    {
     "name": "stdout",
     "output_type": "stream",
     "text": [
      "Enter your name: shafaq\n",
      "s\n",
      "h\n",
      "a\n",
      "f\n",
      "a\n",
      "q\n"
     ]
    }
   ],
   "source": [
    "name = input(\"Enter your name: \")\n",
    "\n",
    "for i in name:\n",
    "    print(i)"
   ]
  },
  {
   "cell_type": "markdown",
   "id": "a1f73944",
   "metadata": {},
   "source": [
    "# 038 \n",
    "Change program \n",
    "037 to also ask for a \n",
    "number. Display \n",
    "their name (one \n",
    "letter at a time on \n",
    "each line) and \n",
    "repeat this for the \n",
    "number of times \n",
    "they entered. "
   ]
  },
  {
   "cell_type": "code",
   "execution_count": 12,
   "id": "009d5272",
   "metadata": {},
   "outputs": [
    {
     "name": "stdout",
     "output_type": "stream",
     "text": [
      "Enter your name: zainab\n",
      "Enter a number: 6\n",
      "z\n",
      "a\n",
      "i\n",
      "n\n",
      "a\n",
      "b\n",
      "z\n",
      "a\n",
      "i\n",
      "n\n",
      "a\n",
      "b\n",
      "z\n",
      "a\n",
      "i\n",
      "n\n",
      "a\n",
      "b\n",
      "z\n",
      "a\n",
      "i\n",
      "n\n",
      "a\n",
      "b\n",
      "z\n",
      "a\n",
      "i\n",
      "n\n",
      "a\n",
      "b\n",
      "z\n",
      "a\n",
      "i\n",
      "n\n",
      "a\n",
      "b\n"
     ]
    }
   ],
   "source": [
    "name = input(\"Enter your name: \")\n",
    "number = int(input(\"Enter a number: \"))\n",
    "\n",
    "for i in range(number):\n",
    "    for j in name:\n",
    "        print(j)"
   ]
  },
  {
   "cell_type": "markdown",
   "id": "918a3dbd",
   "metadata": {},
   "source": [
    "# 039 \n",
    "Ask the user to enter a number between 1 \n",
    "and 12 and then display the times table for \n",
    "that number."
   ]
  },
  {
   "cell_type": "code",
   "execution_count": 13,
   "id": "439ae684",
   "metadata": {},
   "outputs": [
    {
     "name": "stdout",
     "output_type": "stream",
     "text": [
      "Enter any number between 1 and 12: 8\n",
      "8 X 1 = 8\n",
      "8 X 2 = 16\n",
      "8 X 3 = 24\n",
      "8 X 4 = 32\n",
      "8 X 5 = 40\n",
      "8 X 6 = 48\n",
      "8 X 7 = 56\n",
      "8 X 8 = 64\n",
      "8 X 9 = 72\n",
      "8 X 10 = 80\n"
     ]
    }
   ],
   "source": [
    "number = int(input(\"Enter any number between 1 and 12: \"))\n",
    "\n",
    "for i in range(1,11):\n",
    "    print(f'{number} X {i} = {number*i}')"
   ]
  },
  {
   "cell_type": "markdown",
   "id": "b8d10d5d",
   "metadata": {},
   "source": [
    "# 040 \n",
    "Ask for a number below 50 and then count down from \n",
    "50 to that number, making sure you show the number \n",
    "they entered in the output. "
   ]
  },
  {
   "cell_type": "code",
   "execution_count": 14,
   "id": "28a763c1",
   "metadata": {},
   "outputs": [
    {
     "name": "stdout",
     "output_type": "stream",
     "text": [
      "Enter any number below 50: 20\n",
      "50\n",
      "49\n",
      "48\n",
      "47\n",
      "46\n",
      "45\n",
      "44\n",
      "43\n",
      "42\n",
      "41\n",
      "40\n",
      "39\n",
      "38\n",
      "37\n",
      "36\n",
      "35\n",
      "34\n",
      "33\n",
      "32\n",
      "31\n",
      "30\n",
      "29\n",
      "28\n",
      "27\n",
      "26\n",
      "25\n",
      "24\n",
      "23\n",
      "22\n",
      "21\n",
      "20\n"
     ]
    }
   ],
   "source": [
    "number = int(input(\"Enter any number below 50: \"))\n",
    "\n",
    "for i in range(50,number-1,-1):\n",
    "    print(i)"
   ]
  },
  {
   "cell_type": "markdown",
   "id": "af211926",
   "metadata": {},
   "source": [
    "# 041 \n",
    "Ask the user to enter their \n",
    "name and a number. If the \n",
    "number is less than 10, then \n",
    "display their name that \n",
    "number of times; otherwise \n",
    "display the message “Too \n",
    "high” three times. "
   ]
  },
  {
   "cell_type": "code",
   "execution_count": 15,
   "id": "fb157de1",
   "metadata": {},
   "outputs": [
    {
     "name": "stdout",
     "output_type": "stream",
     "text": [
      "Enter your name here: shafaq\n",
      "Enter any number here: 3\n",
      "shafaq\n",
      "shafaq\n",
      "shafaq\n"
     ]
    }
   ],
   "source": [
    "name = input(\"Enter your name here: \")\n",
    "num = int(input(\"Enter any number here: \"))\n",
    "\n",
    "if num < 10:\n",
    "    for i in range(num):\n",
    "        print(name)\n",
    "else:\n",
    "    for i in range(3):\n",
    "        print(\"Too high...\")"
   ]
  },
  {
   "cell_type": "markdown",
   "id": "4d0361d3",
   "metadata": {},
   "source": [
    "# 042 \n",
    "Set a variable called total to 0. Ask the user to enter \n",
    "five numbers and after each input ask them if they \n",
    "want that number included. If they do, then add the \n",
    "number to the total. If they do not want it included, \n",
    "don’t add it to the total. After they have entered all five\n",
    "numbers, display the total."
   ]
  },
  {
   "cell_type": "code",
   "execution_count": 16,
   "id": "fdc41929",
   "metadata": {},
   "outputs": [
    {
     "name": "stdout",
     "output_type": "stream",
     "text": [
      "Enter a number: 6\n",
      "Want to include this number (Y/N): y\n",
      "Enter a number: 3\n",
      "Want to include this number (Y/N): y\n",
      "Enter a number: 9\n",
      "Want to include this number (Y/N): y\n",
      "Enter a number: 12\n",
      "Want to include this number (Y/N): n\n",
      "Enter a number: 3\n",
      "Want to include this number (Y/N): y\n",
      "21\n"
     ]
    }
   ],
   "source": [
    "total = 0\n",
    "\n",
    "for i in range(0,5):\n",
    "    num = int(input(\"Enter a number: \"))\n",
    "    resp = input(\"Want to include this number (Y/N): \")\n",
    "    if resp.upper() == 'Y':\n",
    "        total = total+num\n",
    "        \n",
    "print(total)"
   ]
  },
  {
   "cell_type": "markdown",
   "id": "7c98b711",
   "metadata": {},
   "source": [
    "# 043 \n",
    "Ask which direction the user wants to count (up or down). If they select up, then ask \n",
    "them for the top number and then count from 1 to that number. If they select down, ask \n",
    "them to enter a number below 20 and then count down from 20 to that number. If they \n",
    "entered something other than up or down, display the message “I don’t understand”. "
   ]
  },
  {
   "cell_type": "code",
   "execution_count": 17,
   "id": "cbf443f4",
   "metadata": {},
   "outputs": [
    {
     "name": "stdout",
     "output_type": "stream",
     "text": [
      "Which direction you want to count? Up(u) or Down(d): d\n",
      "Enter a number below 20: 10\n",
      "20\n",
      "19\n",
      "18\n",
      "17\n",
      "16\n",
      "15\n",
      "14\n",
      "13\n",
      "12\n",
      "11\n",
      "10\n"
     ]
    }
   ],
   "source": [
    "direction = input(\"Which direction you want to count? Up(u) or Down(d): \")\n",
    "\n",
    "if direction.lower() == 'u':\n",
    "    num = int(input(\"Enter the top number: \"))\n",
    "    for i in range(1, num+1):\n",
    "        print(i)\n",
    "elif direction.lower() == 'd':\n",
    "    num = int(input(\"Enter a number below 20: \"))\n",
    "    for i in range(20, num-1, -1):\n",
    "        print(i)\n",
    "else:\n",
    "    print(\"I don’t understand\")"
   ]
  },
  {
   "cell_type": "markdown",
   "id": "9f2cb36a",
   "metadata": {},
   "source": [
    "# 044 \n",
    "Ask how many people the user wants to invite to a party. If they enter a number below \n",
    "10, ask for the names and after each name display “[name] has been invited”. If they \n",
    "enter a number which is 10 or higher, display the message “Too many people”. \n"
   ]
  },
  {
   "cell_type": "code",
   "execution_count": 18,
   "id": "84c67cd5",
   "metadata": {},
   "outputs": [
    {
     "name": "stdout",
     "output_type": "stream",
     "text": [
      "How many people you want to invite to a party? 5\n",
      "Enter name here: shafaq\n",
      "shafaq has been invited\n",
      "Enter name here: Zainab\n",
      "Zainab has been invited\n",
      "Enter name here: Maria\n",
      "Maria has been invited\n",
      "Enter name here: Fakhra\n",
      "Fakhra has been invited\n",
      "Enter name here: Tayyiba\n",
      "Tayyiba has been invited\n"
     ]
    }
   ],
   "source": [
    "people = int(input(\"How many people you want to invite to a party? \"))\n",
    "\n",
    "if people < 10:\n",
    "    for i in range(people):\n",
    "        name = input(\"Enter name here: \")\n",
    "        print(f'{name} has been invited')\n",
    "else:\n",
    "    print(\"Too many people\")"
   ]
  }
 ],
 "metadata": {
  "kernelspec": {
   "display_name": "Python 3",
   "language": "python",
   "name": "python3"
  },
  "language_info": {
   "codemirror_mode": {
    "name": "ipython",
    "version": 3
   },
   "file_extension": ".py",
   "mimetype": "text/x-python",
   "name": "python",
   "nbconvert_exporter": "python",
   "pygments_lexer": "ipython3",
   "version": "3.8.8"
  }
 },
 "nbformat": 4,
 "nbformat_minor": 5
}
