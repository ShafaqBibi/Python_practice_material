{
 "cells": [
  {
   "cell_type": "markdown",
   "id": "e7d8f475",
   "metadata": {},
   "source": [
    "# Dictionaries Prictice"
   ]
  },
  {
   "cell_type": "markdown",
   "id": "c11ecf40",
   "metadata": {},
   "source": [
    "# 01\n",
    "Write a program that takes a string as input and prints a dictionary where the keys are the words in the string and the values are the count of each word."
   ]
  },
  {
   "cell_type": "code",
   "execution_count": 1,
   "id": "6d7f0633",
   "metadata": {},
   "outputs": [
    {
     "name": "stdout",
     "output_type": "stream",
     "text": [
      "Enter any sentence: the hard work is the key of success \n",
      "{'the': 2, 'hard': 1, 'work': 1, 'is': 1, 'key': 1, 'of': 1, 'success': 1}\n"
     ]
    }
   ],
   "source": [
    "sentence = input(\"Enter any sentence: \")\n",
    "words = sentence.split()\n",
    "my_dict = {}\n",
    "for word in words:\n",
    "    if word in my_dict:\n",
    "        my_dict[word] += 1\n",
    "    else:\n",
    "        my_dict[word] = 1\n",
    "print(my_dict)"
   ]
  },
  {
   "cell_type": "markdown",
   "id": "42b80d18",
   "metadata": {},
   "source": [
    "# 02\n",
    "Write a program that takes two dictionaries as input and merges them into a single dictionary. If there are common keys, their values should be added together."
   ]
  },
  {
   "cell_type": "code",
   "execution_count": 2,
   "id": "e5f18935",
   "metadata": {},
   "outputs": [
    {
     "name": "stdout",
     "output_type": "stream",
     "text": [
      "{'a': 400, 'b': 400, 'c': 300, 'd': 400}\n"
     ]
    }
   ],
   "source": [
    "dict1 = {'a': 100, 'b': 200, 'c': 300}\n",
    "dict2 = {'a': 300, 'b': 200, 'd': 400}\n",
    "merge_dict = dict1.copy()\n",
    "for key, value in dict2.items():\n",
    "    if key in dict1:\n",
    "        merge_dict[key] += value\n",
    "    else:\n",
    "        merge_dict[key] = value\n",
    "print(merge_dict)\n",
    "        "
   ]
  },
  {
   "cell_type": "markdown",
   "id": "f0a6ee1e",
   "metadata": {},
   "source": [
    "# 03\n",
    "Write a program that takes a dictionary as input and prints a new dictionary where the keys and values are swapped."
   ]
  },
  {
   "cell_type": "code",
   "execution_count": 3,
   "id": "4885aeaf",
   "metadata": {},
   "outputs": [
    {
     "name": "stdout",
     "output_type": "stream",
     "text": [
      "{100: 'a', 200: 'b', 300: 'c'}\n"
     ]
    }
   ],
   "source": [
    "dict1 = {'a': 100, 'b': 200, 'c': 300}\n",
    "new_dict = {}\n",
    "for key, value in dict1.items():\n",
    "    new_dict[value] = key\n",
    "print(new_dict)"
   ]
  },
  {
   "cell_type": "markdown",
   "id": "b5744a8e",
   "metadata": {},
   "source": [
    "# 04\n",
    "Write a program that takes a dictionary and a value as input and prints the corresponding key(s) that have that value."
   ]
  },
  {
   "cell_type": "code",
   "execution_count": 4,
   "id": "caac8d84",
   "metadata": {},
   "outputs": [
    {
     "name": "stdout",
     "output_type": "stream",
     "text": [
      "d\n"
     ]
    }
   ],
   "source": [
    "dictionary = {'a':'apple', 'b':'banana', 'c':'cat', 'd':'dog'}\n",
    "val = 'dog'\n",
    "for key, value in dictionary.items():\n",
    "    if val == value:\n",
    "        print(key)"
   ]
  },
  {
   "cell_type": "markdown",
   "id": "d08ef7fc",
   "metadata": {},
   "source": [
    "# 05\n",
    "Write a program that generates a dictionary where the keys are numbers from 1 to 10 and the values are the square of the keys using dictionary comprehension."
   ]
  },
  {
   "cell_type": "code",
   "execution_count": 5,
   "id": "a4a239dd",
   "metadata": {},
   "outputs": [
    {
     "name": "stdout",
     "output_type": "stream",
     "text": [
      "{1: 1, 2: 4, 3: 9, 4: 16, 5: 25, 6: 36, 7: 49, 8: 64, 9: 81, 10: 100}\n"
     ]
    }
   ],
   "source": [
    "mydict = {key:key**2 for key in range(1,11)}\n",
    "print(mydict)"
   ]
  },
  {
   "cell_type": "markdown",
   "id": "80a45e5c",
   "metadata": {},
   "source": [
    "# 06\n",
    "Write a Python program to convert them into a dictionary in a way that item from list1 is the key and item from list2 is the value"
   ]
  },
  {
   "cell_type": "code",
   "execution_count": 6,
   "id": "51b7958c",
   "metadata": {},
   "outputs": [
    {
     "name": "stdout",
     "output_type": "stream",
     "text": [
      "{1: 'one', 2: 'two', 3: 'three', 4: 'four', 5: 'five', 6: 'six'}\n"
     ]
    }
   ],
   "source": [
    "list1 = [1,2,3,4,5,6]\n",
    "list2 = ['one','two','three','four','five','six']\n",
    "my_dict = dict(zip(list1,list2))\n",
    "print(my_dict)"
   ]
  },
  {
   "cell_type": "markdown",
   "id": "f530134c",
   "metadata": {},
   "source": [
    "# 07\n",
    "Print the value of key ‘history’ from the below dict"
   ]
  },
  {
   "cell_type": "markdown",
   "id": "035bbe9f",
   "metadata": {},
   "source": [
    "sampleDict = {\n",
    "    \"class\": {\n",
    "        \"student\": {\n",
    "            \"name\": \"Mike\",\n",
    "            \"marks\": {\n",
    "                \"physics\": 70,\n",
    "                \"history\": 80\n",
    "            }\n",
    "        }\n",
    "    }\n",
    "}"
   ]
  },
  {
   "cell_type": "code",
   "execution_count": 7,
   "id": "4f59572d",
   "metadata": {},
   "outputs": [
    {
     "name": "stdout",
     "output_type": "stream",
     "text": [
      "80\n"
     ]
    }
   ],
   "source": [
    "sampleDict = { \"class\": { \"student\": { \"name\": \"Mike\", \"marks\": { \"physics\": 70, \"history\": 80 } } } }\n",
    "print(sampleDict['class']['student']['marks']['history'])"
   ]
  }
 ],
 "metadata": {
  "kernelspec": {
   "display_name": "Python 3",
   "language": "python",
   "name": "python3"
  },
  "language_info": {
   "codemirror_mode": {
    "name": "ipython",
    "version": 3
   },
   "file_extension": ".py",
   "mimetype": "text/x-python",
   "name": "python",
   "nbconvert_exporter": "python",
   "pygments_lexer": "ipython3",
   "version": "3.8.8"
  }
 },
 "nbformat": 4,
 "nbformat_minor": 5
}
