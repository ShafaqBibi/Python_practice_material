{
 "cells": [
  {
   "cell_type": "markdown",
   "id": "0d40058b",
   "metadata": {},
   "source": [
    "# 01\n",
    "Write a function to check if a number is positive, negative, or zero."
   ]
  },
  {
   "cell_type": "code",
   "execution_count": 7,
   "id": "9d252c90",
   "metadata": {},
   "outputs": [
    {
     "name": "stdout",
     "output_type": "stream",
     "text": [
      "How many times you want to enter a number: 5\n",
      "Enter any number: 2\n",
      "Positive\n",
      "Enter any number: -1\n",
      "Negative\n",
      "Enter any number: 0\n",
      "Zero\n",
      "Enter any number: 6\n",
      "Positive\n",
      "Enter any number: 0\n",
      "Zero\n"
     ]
    }
   ],
   "source": [
    "def num_checker():\n",
    "    number = int(input(\"Enter any number: \"))\n",
    "    if number < 0:\n",
    "        return 'Negative'\n",
    "    elif number > 0:\n",
    "        return 'Positive'\n",
    "    else:\n",
    "        return 'Zero'\n",
    "\n",
    "rep = int(input(\"How many times you want to enter a number: \"))    \n",
    "for i in range(rep):\n",
    "    num = num_checker()\n",
    "    print(num)"
   ]
  },
  {
   "cell_type": "markdown",
   "id": "7e54a786",
   "metadata": {},
   "source": [
    "# 02\n",
    "Write a function to find the maximum of three numbers."
   ]
  },
  {
   "cell_type": "code",
   "execution_count": 8,
   "id": "3a450bf8",
   "metadata": {},
   "outputs": [
    {
     "name": "stdout",
     "output_type": "stream",
     "text": [
      "Enter 1 number: 6\n",
      "Enter 2 number: 9\n",
      "Enter 3 number: 12\n"
     ]
    },
    {
     "data": {
      "text/plain": [
       "'12 is Maximum of given three numbers'"
      ]
     },
     "execution_count": 8,
     "metadata": {},
     "output_type": "execute_result"
    }
   ],
   "source": [
    "def max_number(num1, num2, num3):\n",
    "    num = 0\n",
    "    if num1 > num:\n",
    "        num = num1\n",
    "    if num2 > num:\n",
    "        num = num2\n",
    "    if num3 > num:\n",
    "        num = num3\n",
    "    \n",
    "    return f'{num} is Maximum of given three numbers'\n",
    "\n",
    "num_list = []\n",
    "for i in range(1,4):\n",
    "    n = int(input(f\"Enter {i} number: \"))\n",
    "    num_list.append(n)\n",
    "    \n",
    "max_number(num_list[0], num_list[1], num_list[2])"
   ]
  },
  {
   "cell_type": "markdown",
   "id": "898e3f19",
   "metadata": {},
   "source": [
    "# 03\n",
    "Write a function to find the minimum and maximum elements in a list."
   ]
  },
  {
   "cell_type": "code",
   "execution_count": 9,
   "id": "9da27dc1",
   "metadata": {},
   "outputs": [
    {
     "name": "stdout",
     "output_type": "stream",
     "text": [
      "Enter 1 number: 5\n",
      "Enter 2 number: 6\n",
      "Enter 3 number: 2\n",
      "6 is Maximum of given three numbers\n",
      "2 is Minimum of given three numbers\n"
     ]
    }
   ],
   "source": [
    "def max_number(num1, num2, num3):\n",
    "    num = 0\n",
    "    if num1 > num:\n",
    "        num = num1\n",
    "    if num2 > num:\n",
    "        num = num2\n",
    "    if num3 > num:\n",
    "        num = num3\n",
    "    \n",
    "    return f'{num} is Maximum of given three numbers'\n",
    "\n",
    "def min_number(num1, num2, num3):\n",
    "    num = 0\n",
    "    if num1 > num:\n",
    "        num = num1\n",
    "    if num2 < num:\n",
    "        num = num2\n",
    "    if num3 < num:\n",
    "        num = num3\n",
    "    \n",
    "    return f'{num} is Minimum of given three numbers'\n",
    "\n",
    "num_list = []\n",
    "for i in range(1,4):\n",
    "    n = int(input(f\"Enter {i} number: \"))\n",
    "    num_list.append(n)\n",
    "    \n",
    "print(max_number(num_list[0], num_list[1], num_list[2]))\n",
    "print(min_number(num_list[0], num_list[1], num_list[2]))"
   ]
  },
  {
   "cell_type": "markdown",
   "id": "7ace965b",
   "metadata": {},
   "source": [
    "# 04\n",
    "Write a program which colloect student detail and then dislay the student detail"
   ]
  },
  {
   "cell_type": "code",
   "execution_count": 10,
   "id": "1fdfc326",
   "metadata": {},
   "outputs": [
    {
     "name": "stdout",
     "output_type": "stream",
     "text": [
      "Want to enter student detail? (y/n): y\n",
      "Name of student: Shafaq\n",
      "Enter roll number: 001\n",
      "Enter faculty: Computer Science\n",
      "Enter major subject: AI\n",
      "Want to enter another student detail? (y/n): y\n",
      "Name of student: Shayan\n",
      "Enter roll number: 002\n",
      "Enter faculty: Commerce\n",
      "Enter major subject: Accounting\n",
      "Want to enter another student detail? (y/n): n\n",
      "\n",
      "\n",
      "Student's Details:\n",
      " {'Shafaq': ['001', 'Computer Science', 'AI'], 'Shayan': ['002', 'Commerce', 'Accounting']}\n"
     ]
    }
   ],
   "source": [
    "det = input(\"Want to enter student detail? (y/n): \")\n",
    "std_dic = {}\n",
    "while det == 'y':\n",
    "    std_name = input('Name of student: ')\n",
    "    std_list = []\n",
    "    std_roll_num = input('Enter roll number: ')\n",
    "    std_list.append(std_roll_num)\n",
    "    std_class = input('Enter faculty: ')\n",
    "    std_list.append(std_class)\n",
    "    std_major_subj = input('Enter major subject: ')\n",
    "    std_list.append(std_major_subj)\n",
    "    \n",
    "    std_dic[std_name] = std_list\n",
    "    det = input(\"Want to enter another student detail? (y/n): \")\n",
    "    \n",
    "    \n",
    "print(\"\\n\\nStudent's Details:\\n\",std_dic)"
   ]
  },
  {
   "cell_type": "markdown",
   "id": "1f0317d3",
   "metadata": {},
   "source": [
    "# 05\n",
    "Write a program that reads integers from the user until a blank line is entered. Handle the ValueError exception if the user enters a non-integer value."
   ]
  },
  {
   "cell_type": "code",
   "execution_count": 12,
   "id": "5d861e77",
   "metadata": {},
   "outputs": [
    {
     "name": "stdout",
     "output_type": "stream",
     "text": [
      "Enter an integer or press enter to quite: 5\n",
      "Enter an integer or press enter to quite: 8\n",
      "Enter an integer or press enter to quite: 6\n",
      "Enter an integer or press enter to quite: k\n",
      "Invalid enter! Please enter a numeric value\n"
     ]
    }
   ],
   "source": [
    "num_list = []\n",
    "try:\n",
    "    while True:\n",
    "        num = input('Enter an integer or press enter to quite: ')\n",
    "        if num == \"\":\n",
    "            break\n",
    "        numm = int(num)\n",
    "        num_list.append(num)\n",
    "    print(\"Entered list is: \", num_list)\n",
    "        \n",
    "except ValueError:\n",
    "    print('Invalid enter! Please enter a numeric value')     "
   ]
  },
  {
   "cell_type": "markdown",
   "id": "39a8177a",
   "metadata": {},
   "source": [
    "# 06\n",
    "Write a program that reads a file name from the user and tries to open and read the contents of the file. Handle the FileNotFoundError exception if the file does not exist."
   ]
  },
  {
   "cell_type": "code",
   "execution_count": 13,
   "id": "fd3ca37c",
   "metadata": {},
   "outputs": [
    {
     "name": "stdout",
     "output_type": "stream",
     "text": [
      "Enter a file name with extension(.doc) you want to open or read the content: health.txt\n",
      "[Errno 2] No such file or directory: 'health.txt'\n"
     ]
    }
   ],
   "source": [
    "try:\n",
    "    file_name = input('Enter a file name with extension(.doc) you want to open or read the content: ')\n",
    "    with open(file_name, 'r') as file_reader:\n",
    "        print(file_reader.read())\n",
    "        \n",
    "except FileNotFoundError as e:\n",
    "    print(e)"
   ]
  },
  {
   "cell_type": "code",
   "execution_count": null,
   "id": "e773ccd0",
   "metadata": {},
   "outputs": [],
   "source": []
  }
 ],
 "metadata": {
  "kernelspec": {
   "display_name": "Python 3",
   "language": "python",
   "name": "python3"
  },
  "language_info": {
   "codemirror_mode": {
    "name": "ipython",
    "version": 3
   },
   "file_extension": ".py",
   "mimetype": "text/x-python",
   "name": "python",
   "nbconvert_exporter": "python",
   "pygments_lexer": "ipython3",
   "version": "3.8.8"
  }
 },
 "nbformat": 4,
 "nbformat_minor": 5
}
