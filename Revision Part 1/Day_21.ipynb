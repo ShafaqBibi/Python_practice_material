{
 "cells": [
  {
   "cell_type": "markdown",
   "id": "493a0714",
   "metadata": {},
   "source": [
    "# Revision of all the concepts that i have learned from Day 01 until now."
   ]
  },
  {
   "cell_type": "markdown",
   "id": "99398b64",
   "metadata": {},
   "source": [
    "# Part 3"
   ]
  },
  {
   "cell_type": "markdown",
   "id": "a90112f7",
   "metadata": {},
   "source": [
    "# 31\n",
    "Create a new file \"practice.txt\" by using python. Add the following data in it:\n",
    "    "
   ]
  },
  {
   "cell_type": "markdown",
   "id": "d8c2ace5",
   "metadata": {},
   "source": [
    "Hi everyone"
   ]
  },
  {
   "cell_type": "markdown",
   "id": "3b4ee36b",
   "metadata": {},
   "source": [
    "I'm Shafaq Bibi"
   ]
  },
  {
   "cell_type": "markdown",
   "id": "d8734ede",
   "metadata": {},
   "source": [
    "I'm learning Python"
   ]
  },
  {
   "cell_type": "code",
   "execution_count": 15,
   "id": "f14fbfd5",
   "metadata": {},
   "outputs": [],
   "source": [
    "with open(\"practice.txt\", \"w\") as file:\n",
    "    file.write(\"Hi everyone\\nI'm Shafaq Bibi\\nI'm learning Python\")"
   ]
  },
  {
   "cell_type": "markdown",
   "id": "cd9cf56c",
   "metadata": {},
   "source": [
    "# 32\n",
    "WAF that replace all accurrences of 'Python' with 'Java' in above file"
   ]
  },
  {
   "cell_type": "code",
   "execution_count": 16,
   "id": "5ea6d450",
   "metadata": {},
   "outputs": [
    {
     "name": "stdout",
     "output_type": "stream",
     "text": [
      "Before replace\n",
      "\n",
      "Hi everyone\n",
      "I'm Shafaq Bibi\n",
      "I'm learning Python\n",
      "\n",
      "After replace\n",
      "\n",
      "Hi everyone\n",
      "I'm Shafaq Bibi\n",
      "I'm learning Java\n"
     ]
    }
   ],
   "source": [
    "def file_checker():\n",
    "    with open(\"practice.txt\", \"r\") as read_file:\n",
    "        data = read_file.read()\n",
    "        print('Before replace\\n\\n'+data)\n",
    "\n",
    "    replace_data = data.replace('Python', 'Java')\n",
    "\n",
    "    with open(\"practice.txt\",\"w\") as write_file:\n",
    "        write_file.write(replace_data)\n",
    "        \n",
    "    with open(\"practice.txt\", \"r\") as read_file:\n",
    "        data = read_file.read()\n",
    "        print('\\nAfter replace\\n\\n'+data)\n",
    "        \n",
    "file_checker()"
   ]
  },
  {
   "cell_type": "markdown",
   "id": "babae877",
   "metadata": {},
   "source": [
    "# 33\n",
    "Search if the word 'learning' exists in the file or not"
   ]
  },
  {
   "cell_type": "code",
   "execution_count": 18,
   "id": "278f2cf4",
   "metadata": {},
   "outputs": [
    {
     "name": "stdout",
     "output_type": "stream",
     "text": [
      "True\n"
     ]
    }
   ],
   "source": [
    "with open(\"practice.txt\") as search_word_file:\n",
    "    data = search_word_file.read()\n",
    "    print('learning' in data)"
   ]
  },
  {
   "cell_type": "markdown",
   "id": "d17e0a40",
   "metadata": {},
   "source": [
    "# OR"
   ]
  },
  {
   "cell_type": "code",
   "execution_count": 20,
   "id": "b6acb352",
   "metadata": {},
   "outputs": [
    {
     "name": "stdout",
     "output_type": "stream",
     "text": [
      "Not Exist\n"
     ]
    }
   ],
   "source": [
    "with open(\"practice.txt\") as search_word_file:\n",
    "    data = search_word_file.read()\n",
    "    if data.find('reading') != -1:\n",
    "        print('Exist')\n",
    "    else:\n",
    "        print('Not Exist')"
   ]
  },
  {
   "cell_type": "markdown",
   "id": "e707307b",
   "metadata": {},
   "source": [
    "# OR"
   ]
  },
  {
   "cell_type": "code",
   "execution_count": 21,
   "id": "352e654f",
   "metadata": {},
   "outputs": [
    {
     "name": "stdout",
     "output_type": "stream",
     "text": [
      "Exist\n"
     ]
    }
   ],
   "source": [
    "with open(\"practice.txt\") as search_word_file:\n",
    "    data = search_word_file.read()\n",
    "    if 'everyone' in data:\n",
    "        print('Exist')\n",
    "    else:\n",
    "        print('Not Exist')"
   ]
  },
  {
   "cell_type": "markdown",
   "id": "abcf290e",
   "metadata": {},
   "source": [
    "# 34\n",
    "WAF to find in which line of the file does the word \"learning\" accur first."
   ]
  },
  {
   "cell_type": "code",
   "execution_count": 23,
   "id": "a0b8dd57",
   "metadata": {},
   "outputs": [
    {
     "name": "stdout",
     "output_type": "stream",
     "text": [
      "Word exist in 3 line\n"
     ]
    }
   ],
   "source": [
    "def readline_no():\n",
    "    data = True\n",
    "    line = 1\n",
    "    with open(\"practice.txt\") as search_word_file:\n",
    "        while data:\n",
    "            data = search_word_file.readline()\n",
    "            if 'Java' in data:\n",
    "                print(f'Word exist in {line} line')\n",
    "                return\n",
    "            line+=1\n",
    "    \n",
    "    return f'Word does not exist'\n",
    "\n",
    "readline_no()"
   ]
  },
  {
   "cell_type": "markdown",
   "id": "34cf628f",
   "metadata": {},
   "source": [
    "# 35\n",
    "From a file containing numbers separated by comma, print the count of even number"
   ]
  },
  {
   "cell_type": "code",
   "execution_count": 24,
   "id": "211f35ad",
   "metadata": {},
   "outputs": [
    {
     "name": "stdout",
     "output_type": "stream",
     "text": [
      "['1', '2', '6', '3', '8', '5', '9', '12', '10', '200', '4', '7', '21']\n",
      "7\n"
     ]
    }
   ],
   "source": [
    "def count_even():\n",
    "    count = 0\n",
    "    with open('practice.txt', 'w') as read_file:\n",
    "        read_file.write(\"1,2,6,3,8,5,9,12,10,200,4,7,21\")\n",
    "        \n",
    "    with open('practice.txt', 'r') as read_file:\n",
    "        numbers = read_file.read()\n",
    "        num = numbers.split(',')\n",
    "        print(num)\n",
    "        for i in num:\n",
    "            if int(i)%2==0:\n",
    "                count+=1\n",
    "    return count\n",
    "\n",
    "print(count_even())"
   ]
  },
  {
   "cell_type": "code",
   "execution_count": null,
   "id": "24d07f7e",
   "metadata": {},
   "outputs": [],
   "source": []
  }
 ],
 "metadata": {
  "kernelspec": {
   "display_name": "Python 3",
   "language": "python",
   "name": "python3"
  },
  "language_info": {
   "codemirror_mode": {
    "name": "ipython",
    "version": 3
   },
   "file_extension": ".py",
   "mimetype": "text/x-python",
   "name": "python",
   "nbconvert_exporter": "python",
   "pygments_lexer": "ipython3",
   "version": "3.8.8"
  }
 },
 "nbformat": 4,
 "nbformat_minor": 5
}
