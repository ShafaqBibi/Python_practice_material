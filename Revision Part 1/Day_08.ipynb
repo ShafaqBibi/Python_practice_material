{
 "cells": [
  {
   "cell_type": "markdown",
   "id": "e8c99621",
   "metadata": {},
   "source": [
    "# Functions in Python"
   ]
  },
  {
   "cell_type": "markdown",
   "id": "56e77c78",
   "metadata": {},
   "source": [
    "# 01\n",
    "Write a program to create a function that takes two arguments, name and age, and print their value."
   ]
  },
  {
   "cell_type": "code",
   "execution_count": 1,
   "id": "d32e39a5",
   "metadata": {},
   "outputs": [
    {
     "name": "stdout",
     "output_type": "stream",
     "text": [
      "Enter your name: Shayan\n",
      "Enter your age: 23\n",
      "Your name is: Shayan and your age is: 23\n"
     ]
    }
   ],
   "source": [
    "def user_detail():\n",
    "    name = input(\"Enter your name: \")\n",
    "    age = input(\"Enter your age: \")\n",
    "    print(f'Your name is: {name} and your age is: {age}')\n",
    "    \n",
    "user_detail()"
   ]
  },
  {
   "cell_type": "markdown",
   "id": "76637934",
   "metadata": {},
   "source": [
    "# 02\n",
    "Write a program to create function func1() to accept a variable length of arguments and print their value.\n",
    "Note: Create a function in such a way that we can pass any number of arguments to this function, and the function should process them and display each argument’s value."
   ]
  },
  {
   "cell_type": "code",
   "execution_count": 2,
   "id": "30d56235",
   "metadata": {},
   "outputs": [
    {
     "name": "stdout",
     "output_type": "stream",
     "text": [
      "5\n",
      "6\n",
      "9\n",
      "\n",
      "\n",
      "23\n",
      "56\n",
      "12\n",
      "15\n"
     ]
    }
   ],
   "source": [
    "def funt1(*args):\n",
    "    for i in args:\n",
    "        print(i)\n",
    "\n",
    "funt1(5, 6, 9)\n",
    "print('\\n')\n",
    "funt1(23,56,12,15)"
   ]
  },
  {
   "cell_type": "markdown",
   "id": "b6c31d3c",
   "metadata": {},
   "source": [
    "# 03\n",
    "Write a program to create function calculation() such that it can accept two variables and calculate addition and subtraction. Also, it must return both addition and subtraction in a single return call."
   ]
  },
  {
   "cell_type": "code",
   "execution_count": 3,
   "id": "a5661af5",
   "metadata": {},
   "outputs": [
    {
     "name": "stdout",
     "output_type": "stream",
     "text": [
      "Addition is: 13\n",
      "Subtraction is: 7\n"
     ]
    }
   ],
   "source": [
    "def calculator(a, b):\n",
    "    addition = a+b\n",
    "    subtraction = a-b\n",
    "    return addition, subtraction\n",
    "\n",
    "result = calculator(10, 3)\n",
    "print(f'Addition is: {result[0]}\\nSubtraction is: {result[1]}')"
   ]
  },
  {
   "cell_type": "markdown",
   "id": "8f5dbf5d",
   "metadata": {},
   "source": [
    "# 04\n",
    "Write a program to create a function show_employee() using the following conditions.\n",
    "\n",
    "1) It should accept the employee’s name and salary and display both.\n",
    "2) If the salary is missing in the function call then assign default value 9000 to salary"
   ]
  },
  {
   "cell_type": "code",
   "execution_count": 4,
   "id": "214ad50e",
   "metadata": {},
   "outputs": [
    {
     "name": "stdout",
     "output_type": "stream",
     "text": [
      "Name: Shafaq Bibi Salary: 65000\n",
      "Name: Ali Salary: 9000\n"
     ]
    }
   ],
   "source": [
    "def show_employee(name, salary = 9000):\n",
    "    print(f\"Name: {name} Salary: {salary}\")\n",
    "    \n",
    "show_employee('Shafaq Bibi', 65000)\n",
    "show_employee('Ali')"
   ]
  },
  {
   "cell_type": "markdown",
   "id": "1ea02ae5",
   "metadata": {},
   "source": [
    "# 05\n",
    "1) Create an outer function that will accept two parameters, a and b\n",
    "2) Create an inner function inside an outer function that will calculate the addition of a and b\n",
    "3) At last, an outer function will add 5 into addition and return it"
   ]
  },
  {
   "cell_type": "code",
   "execution_count": 5,
   "id": "409c429c",
   "metadata": {},
   "outputs": [
    {
     "name": "stdout",
     "output_type": "stream",
     "text": [
      "20\n"
     ]
    }
   ],
   "source": [
    "def calcu(a, b):\n",
    "    def addition():\n",
    "        return a+b\n",
    "    return addition() + 5\n",
    "\n",
    "add = calcu(10,5)\n",
    "print(add)"
   ]
  },
  {
   "cell_type": "markdown",
   "id": "fe7a19f7",
   "metadata": {},
   "source": [
    "# 06\n",
    "Write a program to create a recursive function to calculate the sum of numbers from 0 to 10."
   ]
  },
  {
   "cell_type": "code",
   "execution_count": 6,
   "id": "aae913b7",
   "metadata": {},
   "outputs": [
    {
     "name": "stdout",
     "output_type": "stream",
     "text": [
      "15\n"
     ]
    }
   ],
   "source": [
    "def sum_numbers(num):\n",
    "    if num:\n",
    "        return num + sum_numbers(num-1)\n",
    "    else:\n",
    "        return 0\n",
    "\n",
    "result = sum_numbers(5)\n",
    "print(result)"
   ]
  },
  {
   "cell_type": "markdown",
   "id": "15f75481",
   "metadata": {},
   "source": [
    "# 07\n",
    "Below is the function display_student(name, age). Assign a new name show_tudent(name, age) to it and call it using the new name."
   ]
  },
  {
   "cell_type": "markdown",
   "id": "1076f08b",
   "metadata": {},
   "source": [
    "\"\"\"def display_student(name, age):\n",
    "    print(name, age)\n",
    "\n",
    "display_student(\"Emma\", 26)\"\"\""
   ]
  },
  {
   "cell_type": "code",
   "execution_count": 7,
   "id": "35b4e67e",
   "metadata": {},
   "outputs": [
    {
     "name": "stdout",
     "output_type": "stream",
     "text": [
      "shayan 23\n"
     ]
    }
   ],
   "source": [
    "def display_student(name, age): \n",
    "    print(name, age)\n",
    "\n",
    "show_tudent = display_student\n",
    "show_tudent('shayan',23)"
   ]
  },
  {
   "cell_type": "markdown",
   "id": "104fbc0c",
   "metadata": {},
   "source": [
    "# 08\n",
    "Generate a Python list of all the even numbers between 4 to 30"
   ]
  },
  {
   "cell_type": "code",
   "execution_count": 8,
   "id": "d34798aa",
   "metadata": {},
   "outputs": [
    {
     "name": "stdout",
     "output_type": "stream",
     "text": [
      "[4, 6, 8, 10, 12, 14, 16, 18, 20, 22, 24, 26, 28]\n"
     ]
    }
   ],
   "source": [
    "def even():\n",
    "    even_list = []\n",
    "    for i in range(4,30):\n",
    "        if i%2 == 0:\n",
    "            even_list.append(i)\n",
    "    print(even_list)\n",
    "    \n",
    "even()           "
   ]
  },
  {
   "cell_type": "markdown",
   "id": "3c1d5f5c",
   "metadata": {},
   "source": [
    "# 09\n",
    "Find the largest item from a given list"
   ]
  },
  {
   "cell_type": "markdown",
   "id": "dfab9dde",
   "metadata": {},
   "source": [
    "x = [4, 6, 8, 24, 12, 2]"
   ]
  },
  {
   "cell_type": "code",
   "execution_count": 9,
   "id": "6947027a",
   "metadata": {},
   "outputs": [
    {
     "name": "stdout",
     "output_type": "stream",
     "text": [
      "24\n"
     ]
    }
   ],
   "source": [
    "x = [4, 6, 8, 24, 12, 2]\n",
    "def max_num_finder(x):\n",
    "    max_num = 0\n",
    "    for i in x:\n",
    "        if i > max_num:\n",
    "            max_num = i\n",
    "    return max_num\n",
    "\n",
    "largest_number = max_num_finder(x)\n",
    "print(largest_number)"
   ]
  }
 ],
 "metadata": {
  "kernelspec": {
   "display_name": "Python 3",
   "language": "python",
   "name": "python3"
  },
  "language_info": {
   "codemirror_mode": {
    "name": "ipython",
    "version": 3
   },
   "file_extension": ".py",
   "mimetype": "text/x-python",
   "name": "python",
   "nbconvert_exporter": "python",
   "pygments_lexer": "ipython3",
   "version": "3.8.8"
  }
 },
 "nbformat": 4,
 "nbformat_minor": 5
}
