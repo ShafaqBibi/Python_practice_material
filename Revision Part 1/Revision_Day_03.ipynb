{
 "cells": [
  {
   "cell_type": "markdown",
   "id": "51ab614b",
   "metadata": {},
   "source": [
    "# 045 \n",
    "Set the total to 0 to start with. While the total is 50 or less, ask \n",
    "the user to input a number. Add that number to the total and \n",
    "print the message “The total is… [total]”. Stop the loop when \n",
    "the total is over 50. "
   ]
  },
  {
   "cell_type": "code",
   "execution_count": 1,
   "id": "9eb270dc",
   "metadata": {},
   "outputs": [
    {
     "name": "stdout",
     "output_type": "stream",
     "text": [
      "Enter a number: 5\n",
      "The total is:  5\n",
      "Enter a number: 20\n",
      "The total is:  25\n",
      "Enter a number: 3\n",
      "The total is:  28\n",
      "Enter a number: 15\n",
      "The total is:  43\n",
      "Enter a number: 20\n",
      "The total is:  63\n"
     ]
    }
   ],
   "source": [
    "total = 0\n",
    "while total<=50:\n",
    "    num = int(input(\"Enter a number: \"))\n",
    "    total = total+num\n",
    "    print(\"The total is: \",total)"
   ]
  },
  {
   "cell_type": "markdown",
   "id": "fa339ad8",
   "metadata": {},
   "source": [
    "# 046 \n",
    "Ask the user to enter \n",
    "a number. Keep \n",
    "asking until they enter \n",
    "a value over 5 and \n",
    "then display the \n",
    "message “The last \n",
    "number you entered \n",
    "was a [number]” and \n",
    "stop the program. "
   ]
  },
  {
   "cell_type": "code",
   "execution_count": 2,
   "id": "9dc124e6",
   "metadata": {},
   "outputs": [
    {
     "name": "stdout",
     "output_type": "stream",
     "text": [
      "Enter a number: 5\n",
      "Enter a number: 6\n",
      "The last number you entered was a  6\n"
     ]
    }
   ],
   "source": [
    "while True:\n",
    "    num = int(input(\"Enter a number: \"))\n",
    "    if num>5:\n",
    "        print(\"The last number you entered was a \", num)\n",
    "        break"
   ]
  },
  {
   "cell_type": "markdown",
   "id": "99cbdc8d",
   "metadata": {},
   "source": [
    "# 047 \n",
    "Ask the user to enter a \n",
    "number and then enter \n",
    "another number. Add these \n",
    "two numbers together and \n",
    "then ask if they want to add \n",
    "another number. If they \n",
    "enter “y\", ask them to enter \n",
    "another number and keep \n",
    "adding numbers until they \n",
    "do not answer “y”. Once the \n",
    "loop has stopped, display \n",
    "the total. "
   ]
  },
  {
   "cell_type": "code",
   "execution_count": 3,
   "id": "af2a8bab",
   "metadata": {},
   "outputs": [
    {
     "name": "stdout",
     "output_type": "stream",
     "text": [
      "Enter a number: 20\n",
      "Enter another number: 6\n",
      "Do you want to add another number: (y/n) y\n",
      "Enter another number: 20\n",
      "Do you want to add another number: (y/n) 3\n",
      "The total is:  46\n"
     ]
    }
   ],
   "source": [
    "number1 = int(input(\"Enter a number: \"))\n",
    "number2 = int(input(\"Enter another number: \"))\n",
    "total = number1+number2\n",
    "again = 'y'\n",
    "\n",
    "while again == 'y':\n",
    "    again = input(\"Do you want to add another number: (y/n) \")\n",
    "    if again == 'y':\n",
    "        number3 = int(input(\"Enter another number: \"))\n",
    "        total = total + number3\n",
    "print(\"The total is: \",total)\n",
    "    \n"
   ]
  },
  {
   "cell_type": "markdown",
   "id": "6a17eb6e",
   "metadata": {},
   "source": [
    "# 048 \n",
    "Ask for the name of somebody the user wants to invite \n",
    "to a party. After this, display the message “[name] has \n",
    "now been invited” and add 1 to the count. Then ask if \n",
    "they want to invite somebody else. Keep repeating this \n",
    "until they no longer want to invite anyone else to the \n",
    "party and then display how many people they have \n",
    "coming to the party. "
   ]
  },
  {
   "cell_type": "code",
   "execution_count": 4,
   "id": "6c438b2c",
   "metadata": {},
   "outputs": [
    {
     "name": "stdout",
     "output_type": "stream",
     "text": [
      "Enter a name you want to invite ta a party: Shafaq\n",
      "Shafaq has been invited!\n",
      "Want to invite somebody else? (y/n): Zainab\n",
      "\n",
      "1 people have coming to the party\n"
     ]
    }
   ],
   "source": [
    "count = 0\n",
    "again = 'y'\n",
    "while again == 'y':\n",
    "    name = input(\"Enter a name you want to invite ta a party: \")\n",
    "    print(f'{name} has been invited!')\n",
    "    count= count + 1\n",
    "    again = input(\"Want to invite somebody else? (y/n): \")\n",
    "\n",
    "print(f\"\\n{count} people have coming to the party\")\n",
    "    "
   ]
  },
  {
   "cell_type": "markdown",
   "id": "6cb12efc",
   "metadata": {},
   "source": [
    "# 049 \n",
    "Create a variable called \n",
    "compnum and set the value \n",
    "to 50. Ask the user to enter a \n",
    "number. While their guess \n",
    "is not the same as the \n",
    "compnum value, tell them if \n",
    "their guess is too low or too \n",
    "high and ask them to have \n",
    "another guess. If they enter \n",
    "the same value as \n",
    "compnum, display the \n",
    "message “Well done, you \n",
    "took [count] attempts”. "
   ]
  },
  {
   "cell_type": "code",
   "execution_count": 5,
   "id": "487544de",
   "metadata": {},
   "outputs": [
    {
     "name": "stdout",
     "output_type": "stream",
     "text": [
      "Enter a number: 1\n",
      "Too Low\n",
      "Enter a number: 3\n",
      "Too Low\n",
      "Enter a number: 5\n",
      "Too Low\n",
      "Enter a number: 20\n",
      "Too Low\n",
      "Enter a number: 50\n",
      "Well done, you took 5 attempts\n"
     ]
    }
   ],
   "source": [
    "compnum = 50\n",
    "count = 0\n",
    "\n",
    "while True:\n",
    "    guesses = int(input(\"Enter a number: \"))\n",
    "    if guesses > compnum:\n",
    "        print(\"Too High\")\n",
    "        count = count + 1\n",
    "    elif guesses < compnum:\n",
    "        print(\"Too Low\")\n",
    "        count = count + 1\n",
    "    else:\n",
    "        count = count + 1\n",
    "        print(f\"Well done, you took {count} attempts\")\n",
    "        break"
   ]
  },
  {
   "cell_type": "markdown",
   "id": "1436fc25",
   "metadata": {},
   "source": [
    "# 050 \n",
    "Ask the user to enter a number between \n",
    "10 and 20. If they enter a value under 10, \n",
    "display the message “Too low” and ask \n",
    "them to try again. If they enter a value \n",
    "above 20, display the message “Too high” \n",
    "and ask them to try again. Keep repeating \n",
    "this until they enter a value that is \n",
    "between 10 and 20 and then display the \n",
    "message “Thank you”."
   ]
  },
  {
   "cell_type": "code",
   "execution_count": 6,
   "id": "f53cf068",
   "metadata": {},
   "outputs": [
    {
     "name": "stdout",
     "output_type": "stream",
     "text": [
      "Enter a number between 10 and 20: 5\n",
      "Too Low\n",
      "Try Again: 6\n",
      "Too Low\n",
      "Try Again: 21\n",
      "Too High\n",
      "Try Again: 22\n",
      "Too High\n",
      "Try Again: 15\n",
      "Thank You!\n"
     ]
    }
   ],
   "source": [
    "number = int(input(\"Enter a number between 10 and 20: \"))\n",
    "\n",
    "while  number < 10 or number > 20:\n",
    "    if number < 10:\n",
    "        print(\"Too Low\")\n",
    "        number = int(input(\"Try Again: \"))\n",
    "    else:\n",
    "        print(\"Too High\")\n",
    "        number = int(input(\"Try Again: \"))\n",
    "        \n",
    "print(\"Thank You!\")"
   ]
  },
  {
   "cell_type": "markdown",
   "id": "185099cd",
   "metadata": {},
   "source": [
    "# 051 \n",
    "Using the song “10 green bottles”, display the lines “There are [num] green bottles \n",
    "hanging on the wall, [num] green bottles hanging on the wall, and if 1 green bottle \n",
    "should accidentally fall”. Then ask the question “how many green bottles will be \n",
    "hanging on the wall?” If the user answers correctly, display the message “There will be \n",
    "[num] green bottles hanging on the wall”. If they answer incorrectly, display the \n",
    "message “No, try again” until they get it right. When the number of green bottles gets \n",
    "down to 0, display the message “There are no more green bottles hanging on the wall”. \n"
   ]
  },
  {
   "cell_type": "code",
   "execution_count": 7,
   "id": "c78233e2",
   "metadata": {},
   "outputs": [
    {
     "name": "stdout",
     "output_type": "stream",
     "text": [
      "There are 10 green bottles hanging on the wall, 10 green bottles hanging on the wall, and if 1 green bottle should accidentally fall\n",
      "How many green bottles will be hanging on the wall?: 9\n",
      "There will be 9 green bottles hanging on the wall\n",
      "There are 9 green bottles hanging on the wall, 9 green bottles hanging on the wall, and if 1 green bottle should accidentally fall\n",
      "How many green bottles will be hanging on the wall?: 8\n",
      "There will be 8 green bottles hanging on the wall\n",
      "There are 8 green bottles hanging on the wall, 8 green bottles hanging on the wall, and if 1 green bottle should accidentally fall\n",
      "How many green bottles will be hanging on the wall?: 5\n",
      "No, try again: 7\n",
      "There are 7 green bottles hanging on the wall, 7 green bottles hanging on the wall, and if 1 green bottle should accidentally fall\n",
      "How many green bottles will be hanging on the wall?: 6\n",
      "There will be 6 green bottles hanging on the wall\n",
      "There are 6 green bottles hanging on the wall, 6 green bottles hanging on the wall, and if 1 green bottle should accidentally fall\n",
      "How many green bottles will be hanging on the wall?: 5\n",
      "There will be 5 green bottles hanging on the wall\n",
      "There are 5 green bottles hanging on the wall, 5 green bottles hanging on the wall, and if 1 green bottle should accidentally fall\n",
      "How many green bottles will be hanging on the wall?: 4\n",
      "There will be 4 green bottles hanging on the wall\n",
      "There are 4 green bottles hanging on the wall, 4 green bottles hanging on the wall, and if 1 green bottle should accidentally fall\n",
      "How many green bottles will be hanging on the wall?: 3\n",
      "There will be 3 green bottles hanging on the wall\n",
      "There are 3 green bottles hanging on the wall, 3 green bottles hanging on the wall, and if 1 green bottle should accidentally fall\n",
      "How many green bottles will be hanging on the wall?: 2\n",
      "There will be 2 green bottles hanging on the wall\n",
      "There are 2 green bottles hanging on the wall, 2 green bottles hanging on the wall, and if 1 green bottle should accidentally fall\n",
      "How many green bottles will be hanging on the wall?: 1\n",
      "There will be 1 green bottles hanging on the wall\n",
      "There are 1 green bottles hanging on the wall, 1 green bottles hanging on the wall, and if 1 green bottle should accidentally fall\n",
      "How many green bottles will be hanging on the wall?: 0\n",
      "There will be 0 green bottles hanging on the wall\n",
      "There are no more green bottles hanging on the wall\n"
     ]
    }
   ],
   "source": [
    "num = 10\n",
    "while num > 0:\n",
    "    print(f\"There are {num} green bottles hanging on the wall, {num} green bottles hanging on the wall, and if 1 green bottle should accidentally fall\")\n",
    "    num = num - 1\n",
    "    answer = int(input(\"How many green bottles will be hanging on the wall?: \"))\n",
    "    if answer == num:\n",
    "        print(f\"There will be {num} green bottles hanging on the wall\")\n",
    "    else:\n",
    "        while answer!=num:\n",
    "            answer = int(input(\"No, try again: \"))\n",
    "print(\"There are no more green bottles hanging on the wall\")\n",
    "    "
   ]
  }
 ],
 "metadata": {
  "kernelspec": {
   "display_name": "Python 3",
   "language": "python",
   "name": "python3"
  },
  "language_info": {
   "codemirror_mode": {
    "name": "ipython",
    "version": 3
   },
   "file_extension": ".py",
   "mimetype": "text/x-python",
   "name": "python",
   "nbconvert_exporter": "python",
   "pygments_lexer": "ipython3",
   "version": "3.8.8"
  }
 },
 "nbformat": 4,
 "nbformat_minor": 5
}
