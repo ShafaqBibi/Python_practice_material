{
 "cells": [
  {
   "cell_type": "markdown",
   "id": "9f3538ee",
   "metadata": {},
   "source": [
    "# Mini_Project"
   ]
  },
  {
   "cell_type": "markdown",
   "id": "d3cdee57",
   "metadata": {},
   "source": [
    "# HEALTH MANAGEMENT SYSTEM"
   ]
  },
  {
   "cell_type": "code",
   "execution_count": 1,
   "id": "f7052956",
   "metadata": {},
   "outputs": [
    {
     "name": "stdout",
     "output_type": "stream",
     "text": [
      "             HEALTH MANAGEMENT SYSTEM             \n",
      "\n",
      "What do you want? \n",
      "1 for Plain Diet or Exercise\n",
      "2 for Retrive Diet or Exercise\n",
      "2\n",
      "\n",
      "What do you want to retrive? \n",
      "1 for Diet\n",
      "2 for Exercise\n",
      "1\n",
      "\n",
      "Whose Diet you want to retrive? Shayan\n",
      "2024-03-25 23:20:02.509547 Take 8-10 glass of water daily\n",
      "\n",
      "Diet Retrived Successfuly\n"
     ]
    }
   ],
   "source": [
    "\n",
    "print(\"             HEALTH MANAGEMENT SYSTEM             \\n\")\n",
    "\n",
    "def gettime():\n",
    "    import datetime\n",
    "    return datetime.datetime.now()\n",
    "\n",
    "def diet_plain(name):\n",
    "    with open(name+\".txt\",\"a\") as wd:\n",
    "        wd.write(str(gettime())+\" \"+input(\"Enter Diet Here: \"))\n",
    "        print(\"\\nDiet Plained Successfuly\")\n",
    "\n",
    "def exer_plain(name):\n",
    "    with open(name+\".txt\",\"a\") as we:\n",
    "        we.write(str(gettime())+\" \"+input(\"Enter Exercise Here: \"))\n",
    "        print(\"\\nExercise Plained Successfuly\")\n",
    "\n",
    "def diet_ret(name):\n",
    "    with open(name+\".txt\",\"r\") as wr:\n",
    "        print(wr.read())\n",
    "        print(\"\\nDiet Retrived Successfuly\")\n",
    "\n",
    "def exer_ret(name):\n",
    "    with open(name+\".txt\", \"r\") as wr:\n",
    "        print(wr.read())\n",
    "        print(\"\\nExercise Retrived Successfuly\")\n",
    "\n",
    "\n",
    "lock = int(input(\"What do you want? \\n1 for Plain Diet or Exercise\\n2 for Retrive Diet or Exercise\\n\"))\n",
    "if lock == 1:\n",
    "    plain = int(input(\"\\nWhat do you want to plain? \\n1 for Diet\\n2 for Exercise\\n\"))\n",
    "    if plain == 1:\n",
    "        name = input(\"\\nFor whom you want to plain Diet? \")\n",
    "        diet_plain(name)\n",
    "\n",
    "    else:\n",
    "        name = input(\"\\nFor whom you want to plain Exercise? \")\n",
    "        exer_plain(name)\n",
    "        \n",
    "else:\n",
    "    plain = int(input(\"\\nWhat do you want to retrive? \\n1 for Diet\\n2 for Exercise\\n\"))\n",
    "    if plain == 1:\n",
    "        name = input(\"\\nWhose Diet you want to retrive? \")\n",
    "        diet_ret(name)   \n",
    "    else:\n",
    "        name = input(\"\\nWhose Exercise you want to retrive? \")\n",
    "        exer_ret(name)"
   ]
  },
  {
   "cell_type": "code",
   "execution_count": null,
   "id": "57fbda8d",
   "metadata": {},
   "outputs": [],
   "source": []
  }
 ],
 "metadata": {
  "kernelspec": {
   "display_name": "Python 3",
   "language": "python",
   "name": "python3"
  },
  "language_info": {
   "codemirror_mode": {
    "name": "ipython",
    "version": 3
   },
   "file_extension": ".py",
   "mimetype": "text/x-python",
   "name": "python",
   "nbconvert_exporter": "python",
   "pygments_lexer": "ipython3",
   "version": "3.8.8"
  }
 },
 "nbformat": 4,
 "nbformat_minor": 5
}
