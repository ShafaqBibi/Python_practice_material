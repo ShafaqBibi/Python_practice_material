{
 "cells": [
  {
   "cell_type": "markdown",
   "id": "bef22edc",
   "metadata": {},
   "source": [
    "# 001 \n",
    "Ask for the user’s first name and \n",
    "display the output message \n",
    "Hello [First Name]"
   ]
  },
  {
   "cell_type": "code",
   "execution_count": 1,
   "id": "cf62f2e7",
   "metadata": {},
   "outputs": [
    {
     "name": "stdout",
     "output_type": "stream",
     "text": [
      "Enter your name: Shafaq\n",
      "Hello Shafaq\n"
     ]
    }
   ],
   "source": [
    "name = input(\"Enter your name: \")\n",
    "print(f\"Hello {name}\")"
   ]
  },
  {
   "cell_type": "markdown",
   "id": "3e1a2135",
   "metadata": {},
   "source": [
    "# 002 \n",
    "Ask for the user’s first name and then ask for \n",
    "their surname and display the output message \n",
    "Hello [First Name] [Surname]. "
   ]
  },
  {
   "cell_type": "code",
   "execution_count": 2,
   "id": "58b2719f",
   "metadata": {},
   "outputs": [
    {
     "name": "stdout",
     "output_type": "stream",
     "text": [
      "Enter your first name here: Zainab\n",
      "Enter your surname here: Chohan\n",
      "Hello Zainab Chohan\n"
     ]
    }
   ],
   "source": [
    "f_name = input(\"Enter your first name here: \")\n",
    "sur_name = input(\"Enter your surname here: \")\n",
    "\n",
    "print(f'Hello {f_name} {sur_name}')"
   ]
  },
  {
   "cell_type": "markdown",
   "id": "e931bf75",
   "metadata": {},
   "source": [
    "# 003 \n",
    "Write code that will display the joke “What do you call a bear with no \n",
    "teeth?” and on the next line display the answer “A gummy bear!” Try to \n",
    "create it using only one line of code."
   ]
  },
  {
   "cell_type": "code",
   "execution_count": 3,
   "id": "19118a2f",
   "metadata": {},
   "outputs": [
    {
     "name": "stdout",
     "output_type": "stream",
     "text": [
      "What do you call a bear with no teeth?\n",
      "A gummy bear!\n"
     ]
    }
   ],
   "source": [
    "print(\"What do you call a bear with no teeth?\\nA gummy bear!\")"
   ]
  },
  {
   "cell_type": "markdown",
   "id": "facf8179",
   "metadata": {},
   "source": [
    "# 004 \n",
    "Ask the user to enter \n",
    "two numbers. Add \n",
    "them together and \n",
    "display the answer as \n",
    "The total is \n",
    "[answer]"
   ]
  },
  {
   "cell_type": "code",
   "execution_count": 4,
   "id": "92836a20",
   "metadata": {},
   "outputs": [
    {
     "name": "stdout",
     "output_type": "stream",
     "text": [
      "Enter number 1 here: 3\n",
      "Enter number 2 here: 125\n",
      "The total is: 128\n"
     ]
    }
   ],
   "source": [
    "num_1 = int(input(\"Enter number 1 here: \"))\n",
    "num_2 = int(input(\"Enter number 2 here: \"))\n",
    "\n",
    "print(f'The total is: {num_1+num_2}')"
   ]
  },
  {
   "cell_type": "markdown",
   "id": "afdff2f9",
   "metadata": {},
   "source": [
    "# 005 \n",
    "Ask the user to enter three \n",
    "numbers. Add together the first \n",
    "two numbers and then multiply \n",
    "this total by the third. Display the \n",
    "answer as The answer is \n",
    "[answer]."
   ]
  },
  {
   "cell_type": "code",
   "execution_count": 5,
   "id": "a2cf1aaf",
   "metadata": {},
   "outputs": [
    {
     "name": "stdout",
     "output_type": "stream",
     "text": [
      "Enter number 1 here: 3\n",
      "Enter number 2 here: 9\n",
      "Enter number 3 here: 5\n",
      "The answer is: 60\n"
     ]
    }
   ],
   "source": [
    "num1 = int(input(\"Enter number 1 here: \"))\n",
    "num2 = int(input(\"Enter number 2 here: \"))\n",
    "num3 = int(input(\"Enter number 3 here: \"))\n",
    "\n",
    "print(f'The answer is: {(num1+num2)*num3}')\n"
   ]
  },
  {
   "cell_type": "markdown",
   "id": "469d3d21",
   "metadata": {},
   "source": [
    "# 006 \n",
    "Ask how many slices \n",
    "of pizza the user \n",
    "started with and ask \n",
    "how many slices \n",
    "they have eaten. \n",
    "Work out how many \n",
    "slices they have left \n",
    "and display the \n",
    "answer in a user\u0002friendly format. "
   ]
  },
  {
   "cell_type": "code",
   "execution_count": 6,
   "id": "38b4fb10",
   "metadata": {},
   "outputs": [
    {
     "name": "stdout",
     "output_type": "stream",
     "text": [
      "Enter the number of slices of pizza you start with: 12\n",
      "Enter the number of slices of pizza you have eaten: 6\n",
      "The slices of pizza left:  6\n"
     ]
    }
   ],
   "source": [
    "startnum = int(input(\"Enter the number of slices of pizza you start with: \"))\n",
    "endnum = int(input(\"Enter the number of slices of pizza you have eaten: \"))\n",
    "\n",
    "leftslices = startnum - endnum\n",
    "print(\"The slices of pizza left: \", leftslices)"
   ]
  },
  {
   "cell_type": "markdown",
   "id": "6bf49166",
   "metadata": {},
   "source": [
    "# 007 \n",
    "Ask the user for their name and their age. Add 1 to their age \n",
    "and display the output [Name] next birthday you \n",
    "will be [new age]."
   ]
  },
  {
   "cell_type": "code",
   "execution_count": 7,
   "id": "b12aa5e9",
   "metadata": {},
   "outputs": [
    {
     "name": "stdout",
     "output_type": "stream",
     "text": [
      "Enter your name: shafaq\n",
      "Enter your age here: 26\n",
      "shafaq in your next birthday, you will be 27\n"
     ]
    }
   ],
   "source": [
    "Name = input(\"Enter your name: \")\n",
    "Age = int(input(\"Enter your age here: \"))\n",
    "\n",
    "print(f'{Name} in your next birthday, you will be {Age+1}')"
   ]
  },
  {
   "cell_type": "markdown",
   "id": "6c6c7694",
   "metadata": {},
   "source": [
    "# 008 \n",
    "Ask for the total price of the bill, then ask how \n",
    "many diners there are. Divide the total bill by the \n",
    "number of diners and show how much each \n",
    "person must pay."
   ]
  },
  {
   "cell_type": "code",
   "execution_count": 8,
   "id": "97caf837",
   "metadata": {},
   "outputs": [
    {
     "name": "stdout",
     "output_type": "stream",
     "text": [
      "Enter the total price of bill: 15000\n",
      "Enter the number of person there are: 20\n",
      "Each person must pay Rs. 750.0\n"
     ]
    }
   ],
   "source": [
    "bill = int(input(\"Enter the total price of bill: \"))\n",
    "person = int(input(\"Enter the number of person there are: \"))\n",
    "\n",
    "print(f'Each person must pay Rs. {bill/person}')"
   ]
  },
  {
   "cell_type": "markdown",
   "id": "a5a3dec2",
   "metadata": {},
   "source": [
    "# 009 \n",
    "Write a program \n",
    "that will ask for a \n",
    "number of days \n",
    "and then will \n",
    "show how many \n",
    "hours, minutes \n",
    "and seconds are \n",
    "in that number of \n",
    "days."
   ]
  },
  {
   "cell_type": "code",
   "execution_count": 9,
   "id": "8d64f393",
   "metadata": {},
   "outputs": [
    {
     "name": "stdout",
     "output_type": "stream",
     "text": [
      "Enter the number of days here: 25\n",
      "25 days are there...\n",
      "Hours in those days are: 600\n",
      "Minutes are: 36000 and\n",
      "Seconds are 2160000\n"
     ]
    }
   ],
   "source": [
    "days = int(input(\"Enter the number of days here: \"))\n",
    "hours = days*24\n",
    "minutes = hours*60\n",
    "seconds = minutes*60\n",
    "\n",
    "print(f'{days} days are there...\\nHours in those days are: {hours}\\nMinutes are: {minutes} and\\nSeconds are {seconds}')"
   ]
  },
  {
   "cell_type": "markdown",
   "id": "3f1390ae",
   "metadata": {},
   "source": [
    "# 010 \n",
    "There are 2,204 pounds in a kilogram. Ask the \n",
    "user to enter a weight in kilograms and convert it \n",
    "to pounds."
   ]
  },
  {
   "cell_type": "code",
   "execution_count": 10,
   "id": "45eff9f4",
   "metadata": {},
   "outputs": [
    {
     "name": "stdout",
     "output_type": "stream",
     "text": [
      "Enter the weight in kilograms: 120\n",
      "That is 264480 Pounds in 120 Kilogram\n"
     ]
    }
   ],
   "source": [
    "kilo = int(input(\"Enter the weight in kilograms: \"))\n",
    "pounds = kilo * 2204\n",
    "print(f'That is {pounds} Pounds in {kilo} Kilogram')"
   ]
  },
  {
   "cell_type": "markdown",
   "id": "4c865001",
   "metadata": {},
   "source": [
    "# 011 \n",
    "Task the user to enter a number over 100 and then enter a number under \n",
    "10 and tell them how many times the smaller number goes into the larger \n",
    "number in a user-friendly format. "
   ]
  },
  {
   "cell_type": "code",
   "execution_count": 11,
   "id": "6d7704e2",
   "metadata": {},
   "outputs": [
    {
     "name": "stdout",
     "output_type": "stream",
     "text": [
      "Enter a number over 100: 101\n",
      "Enter a number under 10: 3\n",
      "33 Times the 3 number goes into 101 number\n"
     ]
    }
   ],
   "source": [
    "largerNum = int(input(\"Enter a number over 100: \"))\n",
    "smallerNum = int(input(\"Enter a number under 10: \"))\n",
    "answer = largerNum//smallerNum\n",
    "print(f'{answer} Times the {smallerNum} number goes into {largerNum} number')"
   ]
  },
  {
   "cell_type": "markdown",
   "id": "0e6619f6",
   "metadata": {},
   "source": [
    "# 012 \n",
    "Ask for two numbers. If \n",
    "the first one is larger \n",
    "than the second, display \n",
    "the second number first \n",
    "and then the first \n",
    "number, otherwise show \n",
    "the first number first and \n",
    "then the second. "
   ]
  },
  {
   "cell_type": "code",
   "execution_count": 12,
   "id": "e970a1b0",
   "metadata": {},
   "outputs": [
    {
     "name": "stdout",
     "output_type": "stream",
     "text": [
      "Enter first number: 12\n",
      "Enter second number: 25\n",
      "12 25\n"
     ]
    }
   ],
   "source": [
    "firstNum = int(input(\"Enter first number: \"))\n",
    "secondNum = int(input(\"Enter second number: \"))\n",
    "\n",
    "if firstNum > secondNum:\n",
    "    print(secondNum, firstNum)\n",
    "else:\n",
    "    print(firstNum, secondNum)"
   ]
  },
  {
   "cell_type": "markdown",
   "id": "3a840a26",
   "metadata": {},
   "source": [
    "# 013 \n",
    "Ask the user to enter a \n",
    "number that is under \n",
    "20. If they enter a \n",
    "number that is 20 or \n",
    "more, display the \n",
    "message “Too high”, \n",
    "otherwise display \n",
    "“Thank you”."
   ]
  },
  {
   "cell_type": "code",
   "execution_count": 13,
   "id": "8f246477",
   "metadata": {},
   "outputs": [
    {
     "name": "stdout",
     "output_type": "stream",
     "text": [
      "Enter a number under 20: 19\n",
      "Thank you\n"
     ]
    }
   ],
   "source": [
    "num = int(input(\"Enter a number under 20: \"))\n",
    "\n",
    "if num >= 20:\n",
    "    print(\"Too high\")\n",
    "else:\n",
    "    print(\"Thank you\")"
   ]
  },
  {
   "cell_type": "markdown",
   "id": "8b96ef5d",
   "metadata": {},
   "source": [
    "# 014 \n",
    "Ask the user to enter a \n",
    "number between 10 and 20 \n",
    "(inclusive). If they enter a \n",
    "number within this range, \n",
    "display the message “Thank \n",
    "you”, otherwise display the \n",
    "message “Incorrect \n",
    "answer”. "
   ]
  },
  {
   "cell_type": "code",
   "execution_count": 14,
   "id": "0bc14ed0",
   "metadata": {},
   "outputs": [
    {
     "name": "stdout",
     "output_type": "stream",
     "text": [
      "Enter a number between 10 and 20: 18\n",
      "Thank you\n"
     ]
    }
   ],
   "source": [
    "num = int(input(\"Enter a number between 10 and 20: \"))\n",
    "\n",
    "if 10<=num<=20:\n",
    "    print(\"Thank you\")\n",
    "else:\n",
    "    print(\"Incorrect answer\")"
   ]
  },
  {
   "cell_type": "markdown",
   "id": "b9eb70de",
   "metadata": {},
   "source": [
    "# 015 \n",
    "Ask the user to enter their favourite colour. If they enter “red”, “RED” or \n",
    "“Red” display the message “I like red too”, otherwise display the message \n",
    "“I don’t like [colour], I prefer red”."
   ]
  },
  {
   "cell_type": "code",
   "execution_count": 15,
   "id": "c3af58ea",
   "metadata": {},
   "outputs": [
    {
     "name": "stdout",
     "output_type": "stream",
     "text": [
      "Enter your favourite colour: black\n",
      "I don't like black, I prefer red\n"
     ]
    }
   ],
   "source": [
    "colour = input(\"Enter your favourite colour: \")\n",
    "\n",
    "if colour == 'red' or colour == 'Red' or colour == 'RED':\n",
    "    print(\"I like red too\")\n",
    "else:\n",
    "    print(f\"I don't like {colour}, I prefer red\")"
   ]
  },
  {
   "cell_type": "markdown",
   "id": "f2ff8616",
   "metadata": {},
   "source": [
    "# 016 \n",
    "Ask the user if it is raining and convert their answer to lower case \n",
    "so it doesn’t matter what case they type it in. If they answer “yes”, \n",
    "ask if it is windy. If they answer “yes” to this second question, \n",
    "display the answer “It is too windy for an umbrella”, otherwise \n",
    "display the message “Take an umbrella”. If they did not answer yes \n",
    "to the first question, display the answer “Enjoy your day”."
   ]
  },
  {
   "cell_type": "code",
   "execution_count": 16,
   "id": "5662a3fe",
   "metadata": {},
   "outputs": [
    {
     "name": "stdout",
     "output_type": "stream",
     "text": [
      "Is there raining? (Yes/No): yes\n",
      "Is it windy? (Yes/No): no\n",
      "Take an umbrella\n"
     ]
    }
   ],
   "source": [
    "raining = input(\"Is there raining? (Yes/No): \").lower()\n",
    "\n",
    "if raining == 'yes':\n",
    "    windy = input(\"Is it windy? (Yes/No): \").lower()\n",
    "    if windy == 'yes':\n",
    "        print(\"It is too windy for an umbrella\")\n",
    "    else:\n",
    "        print(\"Take an umbrella\")\n",
    "else:\n",
    "    print(\"Enjoy your day\")"
   ]
  },
  {
   "cell_type": "markdown",
   "id": "8ccca1c2",
   "metadata": {},
   "source": [
    "# 017 \n",
    "Ask the user’s age. If they \n",
    "are 18 or over, display the \n",
    "message “You can vote”, if \n",
    "they are aged 17, display the \n",
    "message “You can learn to \n",
    "drive”, if they are 16, display \n",
    "the message “You can buy a \n",
    "lottery ticket”, if they are \n",
    "under 16, display the \n",
    "message “You can go Trick\u0002or-Treating”. "
   ]
  },
  {
   "cell_type": "code",
   "execution_count": 17,
   "id": "628c860d",
   "metadata": {},
   "outputs": [
    {
     "name": "stdout",
     "output_type": "stream",
     "text": [
      "Enter your age: 26\n",
      "You can vote\n"
     ]
    }
   ],
   "source": [
    "age = int(input(\"Enter your age: \"))\n",
    "\n",
    "if age >= 18:\n",
    "    print(\"You can vote\")\n",
    "elif age == 17:\n",
    "    print(\"You can learn to drive\")\n",
    "elif age == 16:\n",
    "    print(\"You can buy a lottery ticket\")\n",
    "else:\n",
    "    print(\"You can go Trick-or-Treating\")\n"
   ]
  },
  {
   "cell_type": "markdown",
   "id": "6036014d",
   "metadata": {},
   "source": [
    "# 018 \n",
    "Ask the user to enter a number. If it is under 10, \n",
    "display the message “Too low”, if their number is \n",
    "between 10 and 20, display “Correct”, otherwise \n",
    "display “Too high”."
   ]
  },
  {
   "cell_type": "code",
   "execution_count": 18,
   "id": "01434457",
   "metadata": {},
   "outputs": [
    {
     "name": "stdout",
     "output_type": "stream",
     "text": [
      "Enter any number: 15\n",
      "Correct\n"
     ]
    }
   ],
   "source": [
    "number = int(input(\"Enter any number: \"))\n",
    "\n",
    "if number < 10:\n",
    "    print(\"Too low\")\n",
    "elif number >= 10 and number <= 20:\n",
    "    print(\"Correct\")\n",
    "else:\n",
    "    print(\"Too high\")"
   ]
  },
  {
   "cell_type": "markdown",
   "id": "1545e55a",
   "metadata": {},
   "source": [
    "# 019 \n",
    "Ask the user to enter 1, 2 or 3. If they enter a 1, display \n",
    "the message “Thank you”, if they enter a 2, display \n",
    "“Well done”, if they enter a 3, display “Correct”. If \n",
    "they enter anything else, display “Error message”. \n"
   ]
  },
  {
   "cell_type": "code",
   "execution_count": 19,
   "id": "f2973380",
   "metadata": {},
   "outputs": [
    {
     "name": "stdout",
     "output_type": "stream",
     "text": [
      "Enter 1, 2, or 3: 2\n",
      "Well done\n"
     ]
    }
   ],
   "source": [
    "num = int(input(\"Enter 1, 2, or 3: \"))\n",
    "\n",
    "if num == 1:\n",
    "    print(\"Thank you\")\n",
    "elif num == 2:\n",
    "    print(\"Well done\")\n",
    "elif num == 3:\n",
    "    print(\"Correct\")\n",
    "else:\n",
    "    print(\"Error message\")"
   ]
  },
  {
   "cell_type": "markdown",
   "id": "ed67ff4e",
   "metadata": {},
   "source": [
    "# 020 \n",
    "Ask the user to enter \n",
    "their first name and \n",
    "then display the \n",
    "length of their name. "
   ]
  },
  {
   "cell_type": "code",
   "execution_count": 20,
   "id": "e4d70fca",
   "metadata": {},
   "outputs": [
    {
     "name": "stdout",
     "output_type": "stream",
     "text": [
      "Enter your name: zainab\n",
      "6\n"
     ]
    }
   ],
   "source": [
    "name = input(\"Enter your name: \")\n",
    "print(len(name))"
   ]
  },
  {
   "cell_type": "markdown",
   "id": "30dd53c6",
   "metadata": {},
   "source": [
    "# 021 \n",
    "Ask the user to enter their first name and then ask them to \n",
    "enter their surname. Join them together with a space between \n",
    "and display the name and the length of whole name. "
   ]
  },
  {
   "cell_type": "code",
   "execution_count": 21,
   "id": "84473296",
   "metadata": {},
   "outputs": [
    {
     "name": "stdout",
     "output_type": "stream",
     "text": [
      "Enter your first name: zainab\n",
      "Enter your surname: chohan\n",
      "Full name is : zainab chohan\n",
      "Lenght of the name is: 13\n"
     ]
    }
   ],
   "source": [
    "first_name = input(\"Enter your first name: \")\n",
    "sur_name = input(\"Enter your surname: \")\n",
    "full_name = first_name + \" \" + sur_name\n",
    "print(f\"Full name is : {full_name}\\nLenght of the name is: {len(full_name)}\")"
   ]
  },
  {
   "cell_type": "markdown",
   "id": "e3f30466",
   "metadata": {},
   "source": [
    "# 022 \n",
    "Ask the user to enter their first name and surname in lower \n",
    "case. Change the case to title case and join them together. \n",
    "Display the finished result."
   ]
  },
  {
   "cell_type": "code",
   "execution_count": 22,
   "id": "2898ad12",
   "metadata": {},
   "outputs": [
    {
     "name": "stdout",
     "output_type": "stream",
     "text": [
      "Enter your first name: zaid\n",
      "Enter your surname: soomro\n",
      "Zaid Soomro\n"
     ]
    }
   ],
   "source": [
    "first_name = input(\"Enter your first name: \")\n",
    "sur_name = input(\"Enter your surname: \")\n",
    "full_name = first_name.title() + \" \" + sur_name.title()\n",
    "print(full_name)"
   ]
  },
  {
   "cell_type": "markdown",
   "id": "4e44d344",
   "metadata": {},
   "source": [
    "# 023 \n",
    "Ask the user to type in the first \n",
    "line of a nursery rhyme and \n",
    "display the length of the string. \n",
    "Ask for a starting number and an \n",
    "ending number and then display \n",
    "just that section of the text \n",
    "(remember Python starts \n",
    "counting from 0 and not 1). "
   ]
  },
  {
   "cell_type": "code",
   "execution_count": 23,
   "id": "aad320f0",
   "metadata": {},
   "outputs": [
    {
     "name": "stdout",
     "output_type": "stream",
     "text": [
      "Enter the first line of nursery rhyme: Back a Cake, Back a Cake\n",
      "24\n",
      "Enter the starting number: 2\n",
      "Enter the ending number: 16\n",
      "ck a Cake, Bac\n"
     ]
    }
   ],
   "source": [
    "rhyme = input(\"Enter the first line of nursery rhyme: \")\n",
    "print(len(rhyme))\n",
    "starting = int(input(\"Enter the starting number: \"))\n",
    "ending = int(input(\"Enter the ending number: \"))\n",
    "rhyme_section = rhyme[starting:ending]\n",
    "print(rhyme_section)"
   ]
  },
  {
   "cell_type": "markdown",
   "id": "a1596268",
   "metadata": {},
   "source": [
    "# 024 \n",
    "Ask the user to type in any word and display it in \n",
    "upper case."
   ]
  },
  {
   "cell_type": "code",
   "execution_count": 24,
   "id": "dde13526",
   "metadata": {},
   "outputs": [
    {
     "name": "stdout",
     "output_type": "stream",
     "text": [
      "Enter any word: sky\n",
      "SKY\n"
     ]
    }
   ],
   "source": [
    "word = input(\"Enter any word: \")\n",
    "print(word.upper())"
   ]
  },
  {
   "cell_type": "markdown",
   "id": "1bf4dea1",
   "metadata": {},
   "source": [
    "# 025 \n",
    "Ask the user to enter their first name. If the length \n",
    "of their first name is under five characters, ask \n",
    "them to enter their surname and join them \n",
    "together (without a space) and display the name \n",
    "in upper case. If the length of the first name is five\n",
    "or more characters, display their first name in \n",
    "lower case."
   ]
  },
  {
   "cell_type": "code",
   "execution_count": 25,
   "id": "e4962ef4",
   "metadata": {},
   "outputs": [
    {
     "name": "stdout",
     "output_type": "stream",
     "text": [
      "Enter your first name: zaid\n",
      "Enter your sur name: soomro\n",
      "ZAIDSOOMRO\n"
     ]
    }
   ],
   "source": [
    "F_Name = input(\"Enter your first name: \")\n",
    "if len(F_Name)<5:\n",
    "    Sur_Name = input(\"Enter your sur name: \")\n",
    "    Full_name = F_Name + Sur_Name\n",
    "    print(Full_name.upper())\n",
    "else:\n",
    "    print(F_Name.lower())"
   ]
  },
  {
   "cell_type": "markdown",
   "id": "71306629",
   "metadata": {},
   "source": [
    "# 026 \n",
    "Pig Latin takes the first consonant of a word, \n",
    "moves it to the end of the word and adds on an \n",
    "“ay”. If a word begins with a vowel you just add \n",
    "“way” to the end. For example, pig becomes igpay, \n",
    "banana becomes ananabay, and aadvark becomes \n",
    "aadvarkway. Create a program that will ask the \n",
    "user to enter a word and change it into Pig Latin. \n",
    "Make sure the new word is displayed in lower case. "
   ]
  },
  {
   "cell_type": "code",
   "execution_count": 26,
   "id": "7f58d1ea",
   "metadata": {},
   "outputs": [
    {
     "name": "stdout",
     "output_type": "stream",
     "text": [
      "Enter a word: fruit\n",
      "ruitfay\n"
     ]
    }
   ],
   "source": [
    "word = input(\"Enter a word: \")\n",
    "letter1 = word[0]\n",
    "if letter1!= 'a' and letter1!= 'e' and letter1!= 'i' and letter1!= 'o' and letter1!= 'u':\n",
    "    print(word[1:len(word)] + letter1 + 'ay')\n",
    "else:\n",
    "    print(word+'way') "
   ]
  }
 ],
 "metadata": {
  "kernelspec": {
   "display_name": "Python 3",
   "language": "python",
   "name": "python3"
  },
  "language_info": {
   "codemirror_mode": {
    "name": "ipython",
    "version": 3
   },
   "file_extension": ".py",
   "mimetype": "text/x-python",
   "name": "python",
   "nbconvert_exporter": "python",
   "pygments_lexer": "ipython3",
   "version": "3.8.8"
  }
 },
 "nbformat": 4,
 "nbformat_minor": 5
}
